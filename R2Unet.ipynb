{
  "nbformat": 4,
  "nbformat_minor": 0,
  "metadata": {
    "colab": {
      "provenance": []
    },
    "kernelspec": {
      "name": "python3",
      "display_name": "Python 3"
    },
    "language_info": {
      "name": "python"
    },
    "accelerator": "GPU"
  },
  "cells": [
    {
      "cell_type": "code",
      "source": [
        "!pip install einops\n"
      ],
      "metadata": {
        "colab": {
          "base_uri": "https://localhost:8080/"
        },
        "id": "iGsB0B_YKCgn",
        "outputId": "ebc13d5c-ca3a-46e3-cb72-1297f93a20f6"
      },
      "execution_count": null,
      "outputs": [
        {
          "output_type": "stream",
          "name": "stdout",
          "text": [
            "Looking in indexes: https://pypi.org/simple, https://us-python.pkg.dev/colab-wheels/public/simple/\n",
            "Requirement already satisfied: einops in /usr/local/lib/python3.7/dist-packages (0.4.1)\n"
          ]
        }
      ]
    },
    {
      "cell_type": "code",
      "execution_count": null,
      "metadata": {
        "id": "JVf7CJiHJaSI"
      },
      "outputs": [],
      "source": [
        "import torch\n",
        "import torch.nn as nn"
      ]
    },
    {
      "cell_type": "code",
      "source": [
        "import numpy as np\n",
        "from einops import rearrange, repeat\n"
      ],
      "metadata": {
        "id": "VLi5Wj0VJd7B"
      },
      "execution_count": null,
      "outputs": []
    },
    {
      "cell_type": "code",
      "source": [
        "class conv_block(nn.Module):\n",
        "    def __init__(self,ch_in,ch_out):\n",
        "        super(conv_block,self).__init__()\n",
        "        self.conv = nn.Sequential(\n",
        "            nn.Conv2d(ch_in, ch_out, kernel_size=3,stride=1,padding=1,bias=True),\n",
        "            nn.BatchNorm2d(ch_out),\n",
        "            nn.ReLU(inplace=True),\n",
        "            nn.Conv2d(ch_out, ch_out, kernel_size=3,stride=1,padding=1,bias=True),\n",
        "            nn.BatchNorm2d(ch_out),\n",
        "            nn.ReLU(inplace=True)\n",
        "        )\n",
        "\n",
        "\n",
        "    def forward(self,x):\n",
        "        x = self.conv(x)\n",
        "        return x\n"
      ],
      "metadata": {
        "id": "vohnhYLLvyCB"
      },
      "execution_count": null,
      "outputs": []
    },
    {
      "cell_type": "code",
      "source": [
        "class up_conv(nn.Module):\n",
        "    def __init__(self,ch_in,ch_out):\n",
        "        super(up_conv,self).__init__()\n",
        "        self.up = nn.Sequential(\n",
        "            nn.Upsample(scale_factor=2),\n",
        "            nn.Conv2d(ch_in,ch_out,kernel_size=3,stride=1,padding=1,bias=True),\n",
        "\t\t    nn.BatchNorm2d(ch_out),\n",
        "\t\t\tnn.ReLU(inplace=True)\n",
        "        )\n",
        "\n",
        "    def forward(self,x):\n",
        "        x = self.up(x)\n",
        "        return x"
      ],
      "metadata": {
        "id": "4LO-ZUbHwdaD"
      },
      "execution_count": null,
      "outputs": []
    },
    {
      "cell_type": "code",
      "source": [
        "class Recurrent_block(nn.Module):\n",
        "    def __init__(self,ch_out,t=2):\n",
        "        super(Recurrent_block,self).__init__()\n",
        "        self.t = t\n",
        "        self.ch_out = ch_out\n",
        "        self.conv = nn.Sequential(\n",
        "            nn.Conv2d(ch_out,ch_out,kernel_size=3,stride=1,padding=1,bias=True),\n",
        "\t\t    nn.BatchNorm2d(ch_out),\n",
        "\t\t\tnn.ReLU(inplace=True)\n",
        "        )\n",
        "\n",
        "    def forward(self,x):\n",
        "        for i in range(self.t):\n",
        "\n",
        "            if i==0:\n",
        "                x1 = self.conv(x)\n",
        "            \n",
        "            x1 = self.conv(x+x1)\n",
        "        return x1"
      ],
      "metadata": {
        "id": "hQpzMb7twjkC"
      },
      "execution_count": null,
      "outputs": []
    },
    {
      "cell_type": "code",
      "source": [
        "class RRCNN_block(nn.Module):\n",
        "    def __init__(self,ch_in,ch_out,t=2):\n",
        "        super(RRCNN_block,self).__init__()\n",
        "        self.RCNN = nn.Sequential(\n",
        "            Recurrent_block(ch_out,t=t),\n",
        "            Recurrent_block(ch_out,t=t)\n",
        "        )\n",
        "        self.Conv_1x1 = nn.Conv2d(ch_in,ch_out,kernel_size=1,stride=1,padding=0)\n",
        "\n",
        "    def forward(self,x):\n",
        "        x = self.Conv_1x1(x)\n",
        "        x1 = self.RCNN(x)\n",
        "        return x+x1\t#residual learning"
      ],
      "metadata": {
        "id": "ki07T459wqCX"
      },
      "execution_count": null,
      "outputs": []
    },
    {
      "cell_type": "code",
      "source": [
        "class RCNN_block(nn.Module):\n",
        "    def __init__(self,ch_in,ch_out,t=2):\n",
        "        super(RCNN_block,self).__init__()\n",
        "        self.RCNN = nn.Sequential(\n",
        "            Recurrent_block(ch_out,t=t),\n",
        "            Recurrent_block(ch_out,t=t)\n",
        "        )\n",
        "        self.Conv_1x1 = nn.Conv2d(ch_in,ch_out,kernel_size=1,stride=1,padding=0)\n",
        "\n",
        "    def forward(self,x):\n",
        "        x = self.Conv_1x1(x)\n",
        "        x = self.RCNN(x)\n",
        "        return x "
      ],
      "metadata": {
        "id": "FJO9RtTyxPnk"
      },
      "execution_count": null,
      "outputs": []
    },
    {
      "cell_type": "code",
      "source": [
        "class ResCNN_block(nn.Module):\n",
        "    def __init__(self,ch_in,ch_out):\n",
        "        super(ResCNN_block,self).__init__()\n",
        "        self.Conv = conv_block(ch_in, ch_out)\n",
        "        self.Conv_1x1 = nn.Conv2d(ch_in,ch_out,kernel_size=1,stride=1,padding=0)\n",
        "\n",
        "    def forward(self,x):\n",
        "        x1 = self.Conv_1x1(x)\n",
        "        x = self.Conv(x)\n",
        "        return x+x1 "
      ],
      "metadata": {
        "id": "lsOK74wHxbke"
      },
      "execution_count": null,
      "outputs": []
    },
    {
      "cell_type": "code",
      "source": [
        "class R2U_Net(nn.Module):\n",
        "    def __init__(self,img_ch=3,output_ch=1,t=2):\n",
        "        super(R2U_Net,self).__init__()\n",
        "        \n",
        "        self.Maxpool = nn.MaxPool2d(kernel_size=2,stride=2)\n",
        "        self.Upsample = nn.Upsample(scale_factor=2)\n",
        "\n",
        "\n",
        "        self.RRCNN1 = RRCNN_block(ch_in=img_ch,ch_out=64,t=t)\n",
        "\n",
        "        self.RRCNN2 = RRCNN_block(ch_in=64,ch_out=128,t=t)\n",
        "        \n",
        "        self.RRCNN3 = RRCNN_block(ch_in=128,ch_out=256,t=t)\n",
        "        \n",
        "        self.RRCNN4 = RRCNN_block(ch_in=256,ch_out=512,t=t)\n",
        "        \n",
        "        self.RRCNN5 = RRCNN_block(ch_in=512,ch_out=1024,t=t)\n",
        "        \n",
        "\n",
        "        self.Up5 = up_conv(ch_in=1024,ch_out=512)\n",
        "        self.Up_RRCNN5 = RRCNN_block(ch_in=1024, ch_out=512,t=t)\n",
        "        \n",
        "        self.Up4 = up_conv(ch_in=512,ch_out=256)\n",
        "        self.Up_RRCNN4 = RRCNN_block(ch_in=512, ch_out=256,t=t)\n",
        "        \n",
        "        self.Up3 = up_conv(ch_in=256,ch_out=128)\n",
        "        self.Up_RRCNN3 = RRCNN_block(ch_in=256, ch_out=128,t=t)\n",
        "        \n",
        "        self.Up2 = up_conv(ch_in=128,ch_out=64)\n",
        "        self.Up_RRCNN2 = RRCNN_block(ch_in=128, ch_out=64,t=t)\n",
        "\n",
        "        self.Conv_1x1 = nn.Conv2d(64,output_ch,kernel_size=1,stride=1,padding=0)\n",
        "\n",
        "\n",
        "    def forward(self,x):\n",
        "        # encoding path\n",
        "        x1 = self.RRCNN1(x)\n",
        "\n",
        "        x2 = self.Maxpool(x1)\n",
        "        x2 = self.RRCNN2(x2)\n",
        "        \n",
        "        x3 = self.Maxpool(x2)\n",
        "        x3 = self.RRCNN3(x3)\n",
        "\n",
        "        x4 = self.Maxpool(x3)\n",
        "        x4 = self.RRCNN4(x4)\n",
        "\n",
        "        x5 = self.Maxpool(x4)\n",
        "        x5 = self.RRCNN5(x5)\n",
        "\n",
        "        # decoding + concat path\n",
        "        d5 = self.Up5(x5)\n",
        "        d5 = torch.cat((x4,d5),dim=1)\n",
        "        d5 = self.Up_RRCNN5(d5)\n",
        "        \n",
        "        d4 = self.Up4(d5)\n",
        "        d4 = torch.cat((x3,d4),dim=1)\n",
        "        d4 = self.Up_RRCNN4(d4)\n",
        "\n",
        "        d3 = self.Up3(d4)\n",
        "        d3 = torch.cat((x2,d3),dim=1)\n",
        "        d3 = self.Up_RRCNN3(d3)\n",
        "\n",
        "        d2 = self.Up2(d3)\n",
        "        d2 = torch.cat((x1,d2),dim=1)\n",
        "        d2 = self.Up_RRCNN2(d2)\n",
        "\n",
        "        d1 = self.Conv_1x1(d2)\n",
        "\n",
        "        return d1"
      ],
      "metadata": {
        "id": "9eeqqIIUx3EL"
      },
      "execution_count": null,
      "outputs": []
    },
    {
      "cell_type": "code",
      "source": [
        "model = R2U_Net(img_ch=1,output_ch=1,t=2).cuda()"
      ],
      "metadata": {
        "id": "AIOwK3VkKgsV"
      },
      "execution_count": null,
      "outputs": []
    },
    {
      "cell_type": "code",
      "source": [
        "print(sum(p.numel() for p in model.parameters()))"
      ],
      "metadata": {
        "colab": {
          "base_uri": "https://localhost:8080/"
        },
        "id": "JURgQl50TuJs",
        "outputId": "44e37004-e58d-4a97-f328-f7fd1114041a"
      },
      "execution_count": null,
      "outputs": [
        {
          "output_type": "stream",
          "name": "stdout",
          "text": [
            "39091265\n"
          ]
        }
      ]
    },
    {
      "cell_type": "code",
      "source": [
        "from IPython.core.display import display, HTML\n",
        "from string import Template\n",
        "import cv2\n",
        "import matplotlib.pyplot as plt\n",
        "import numpy as np\n",
        "import pandas as pd\n",
        "import re\n",
        "from torch.utils.data import DataLoader,Dataset\n",
        "import numpy as np\n",
        "import matplotlib.pyplot as plt  # для отрисовки картиночек\n",
        "%matplotlib inline"
      ],
      "metadata": {
        "id": "WtbBGTN0LUpx"
      },
      "execution_count": null,
      "outputs": []
    },
    {
      "cell_type": "code",
      "source": [
        "import tqdm"
      ],
      "metadata": {
        "id": "5sIVD22mMGFR"
      },
      "execution_count": null,
      "outputs": []
    },
    {
      "cell_type": "code",
      "source": [
        "import torch\n",
        "torch.cuda.is_available()"
      ],
      "metadata": {
        "colab": {
          "base_uri": "https://localhost:8080/"
        },
        "id": "MdEWw0EsMIeO",
        "outputId": "9d179cc0-5a85-48a8-8e4e-5e20e377bd88"
      },
      "execution_count": null,
      "outputs": [
        {
          "output_type": "execute_result",
          "data": {
            "text/plain": [
              "True"
            ]
          },
          "metadata": {},
          "execution_count": 15
        }
      ]
    },
    {
      "cell_type": "code",
      "source": [
        "from google.colab import drive\n",
        "drive.mount('/content/drive')"
      ],
      "metadata": {
        "colab": {
          "base_uri": "https://localhost:8080/"
        },
        "id": "lPnYWXNiMKH6",
        "outputId": "b6cdd6c0-8105-4029-d185-a2f00e4db507"
      },
      "execution_count": null,
      "outputs": [
        {
          "output_type": "stream",
          "name": "stdout",
          "text": [
            "Drive already mounted at /content/drive; to attempt to forcibly remount, call drive.mount(\"/content/drive\", force_remount=True).\n"
          ]
        }
      ]
    },
    {
      "cell_type": "code",
      "source": [
        "path = '/content/drive/MyDrive/'"
      ],
      "metadata": {
        "id": "N_nZ_i74ML6R"
      },
      "execution_count": null,
      "outputs": []
    },
    {
      "cell_type": "code",
      "source": [
        "df = pd.read_csv(path + 'media/train.csv')"
      ],
      "metadata": {
        "id": "p5m1WpQiMRrQ"
      },
      "execution_count": null,
      "outputs": []
    },
    {
      "cell_type": "code",
      "source": [
        "df.head()"
      ],
      "metadata": {
        "colab": {
          "base_uri": "https://localhost:8080/",
          "height": 204
        },
        "id": "qy9GfhdDMTzk",
        "outputId": "779c265c-3da7-4255-a8b6-cdc3251bf0da"
      },
      "execution_count": null,
      "outputs": [
        {
          "output_type": "execute_result",
          "data": {
            "text/plain": [
              "   id name  label attributes  \\\n",
              "0  16  Cr1      9          1   \n",
              "1  17  Cr1      9          2   \n",
              "2  18  Cr1      9          3   \n",
              "3  20  Cr1      9          4   \n",
              "4  21  Cr1      9          5   \n",
              "\n",
              "                                              points  \\\n",
              "0  [[189,308],[188,306],[188,305],[187,303],[187,...   \n",
              "1  [[154,303],[154,301],[154,299],[154,297],[154,...   \n",
              "2  [[197,319],[194,320],[193,321],[193,323],[193,...   \n",
              "3  [[193,329],[196,328],[198,327],[201,326],[203,...   \n",
              "4  [[150,283],[152,282],[154,281],[154,280],[156,...   \n",
              "\n",
              "                           image  \n",
              "0  /media/category_52/000078.jpg  \n",
              "1  /media/category_52/000079.jpg  \n",
              "2  /media/category_52/000080.jpg  \n",
              "3  /media/category_52/000081.jpg  \n",
              "4  /media/category_52/000082.jpg  "
            ],
            "text/html": [
              "\n",
              "  <div id=\"df-95935209-72f3-4173-8e23-e1f6f7bad254\">\n",
              "    <div class=\"colab-df-container\">\n",
              "      <div>\n",
              "<style scoped>\n",
              "    .dataframe tbody tr th:only-of-type {\n",
              "        vertical-align: middle;\n",
              "    }\n",
              "\n",
              "    .dataframe tbody tr th {\n",
              "        vertical-align: top;\n",
              "    }\n",
              "\n",
              "    .dataframe thead th {\n",
              "        text-align: right;\n",
              "    }\n",
              "</style>\n",
              "<table border=\"1\" class=\"dataframe\">\n",
              "  <thead>\n",
              "    <tr style=\"text-align: right;\">\n",
              "      <th></th>\n",
              "      <th>id</th>\n",
              "      <th>name</th>\n",
              "      <th>label</th>\n",
              "      <th>attributes</th>\n",
              "      <th>points</th>\n",
              "      <th>image</th>\n",
              "    </tr>\n",
              "  </thead>\n",
              "  <tbody>\n",
              "    <tr>\n",
              "      <th>0</th>\n",
              "      <td>16</td>\n",
              "      <td>Cr1</td>\n",
              "      <td>9</td>\n",
              "      <td>1</td>\n",
              "      <td>[[189,308],[188,306],[188,305],[187,303],[187,...</td>\n",
              "      <td>/media/category_52/000078.jpg</td>\n",
              "    </tr>\n",
              "    <tr>\n",
              "      <th>1</th>\n",
              "      <td>17</td>\n",
              "      <td>Cr1</td>\n",
              "      <td>9</td>\n",
              "      <td>2</td>\n",
              "      <td>[[154,303],[154,301],[154,299],[154,297],[154,...</td>\n",
              "      <td>/media/category_52/000079.jpg</td>\n",
              "    </tr>\n",
              "    <tr>\n",
              "      <th>2</th>\n",
              "      <td>18</td>\n",
              "      <td>Cr1</td>\n",
              "      <td>9</td>\n",
              "      <td>3</td>\n",
              "      <td>[[197,319],[194,320],[193,321],[193,323],[193,...</td>\n",
              "      <td>/media/category_52/000080.jpg</td>\n",
              "    </tr>\n",
              "    <tr>\n",
              "      <th>3</th>\n",
              "      <td>20</td>\n",
              "      <td>Cr1</td>\n",
              "      <td>9</td>\n",
              "      <td>4</td>\n",
              "      <td>[[193,329],[196,328],[198,327],[201,326],[203,...</td>\n",
              "      <td>/media/category_52/000081.jpg</td>\n",
              "    </tr>\n",
              "    <tr>\n",
              "      <th>4</th>\n",
              "      <td>21</td>\n",
              "      <td>Cr1</td>\n",
              "      <td>9</td>\n",
              "      <td>5</td>\n",
              "      <td>[[150,283],[152,282],[154,281],[154,280],[156,...</td>\n",
              "      <td>/media/category_52/000082.jpg</td>\n",
              "    </tr>\n",
              "  </tbody>\n",
              "</table>\n",
              "</div>\n",
              "      <button class=\"colab-df-convert\" onclick=\"convertToInteractive('df-95935209-72f3-4173-8e23-e1f6f7bad254')\"\n",
              "              title=\"Convert this dataframe to an interactive table.\"\n",
              "              style=\"display:none;\">\n",
              "        \n",
              "  <svg xmlns=\"http://www.w3.org/2000/svg\" height=\"24px\"viewBox=\"0 0 24 24\"\n",
              "       width=\"24px\">\n",
              "    <path d=\"M0 0h24v24H0V0z\" fill=\"none\"/>\n",
              "    <path d=\"M18.56 5.44l.94 2.06.94-2.06 2.06-.94-2.06-.94-.94-2.06-.94 2.06-2.06.94zm-11 1L8.5 8.5l.94-2.06 2.06-.94-2.06-.94L8.5 2.5l-.94 2.06-2.06.94zm10 10l.94 2.06.94-2.06 2.06-.94-2.06-.94-.94-2.06-.94 2.06-2.06.94z\"/><path d=\"M17.41 7.96l-1.37-1.37c-.4-.4-.92-.59-1.43-.59-.52 0-1.04.2-1.43.59L10.3 9.45l-7.72 7.72c-.78.78-.78 2.05 0 2.83L4 21.41c.39.39.9.59 1.41.59.51 0 1.02-.2 1.41-.59l7.78-7.78 2.81-2.81c.8-.78.8-2.07 0-2.86zM5.41 20L4 18.59l7.72-7.72 1.47 1.35L5.41 20z\"/>\n",
              "  </svg>\n",
              "      </button>\n",
              "      \n",
              "  <style>\n",
              "    .colab-df-container {\n",
              "      display:flex;\n",
              "      flex-wrap:wrap;\n",
              "      gap: 12px;\n",
              "    }\n",
              "\n",
              "    .colab-df-convert {\n",
              "      background-color: #E8F0FE;\n",
              "      border: none;\n",
              "      border-radius: 50%;\n",
              "      cursor: pointer;\n",
              "      display: none;\n",
              "      fill: #1967D2;\n",
              "      height: 32px;\n",
              "      padding: 0 0 0 0;\n",
              "      width: 32px;\n",
              "    }\n",
              "\n",
              "    .colab-df-convert:hover {\n",
              "      background-color: #E2EBFA;\n",
              "      box-shadow: 0px 1px 2px rgba(60, 64, 67, 0.3), 0px 1px 3px 1px rgba(60, 64, 67, 0.15);\n",
              "      fill: #174EA6;\n",
              "    }\n",
              "\n",
              "    [theme=dark] .colab-df-convert {\n",
              "      background-color: #3B4455;\n",
              "      fill: #D2E3FC;\n",
              "    }\n",
              "\n",
              "    [theme=dark] .colab-df-convert:hover {\n",
              "      background-color: #434B5C;\n",
              "      box-shadow: 0px 1px 3px 1px rgba(0, 0, 0, 0.15);\n",
              "      filter: drop-shadow(0px 1px 2px rgba(0, 0, 0, 0.3));\n",
              "      fill: #FFFFFF;\n",
              "    }\n",
              "  </style>\n",
              "\n",
              "      <script>\n",
              "        const buttonEl =\n",
              "          document.querySelector('#df-95935209-72f3-4173-8e23-e1f6f7bad254 button.colab-df-convert');\n",
              "        buttonEl.style.display =\n",
              "          google.colab.kernel.accessAllowed ? 'block' : 'none';\n",
              "\n",
              "        async function convertToInteractive(key) {\n",
              "          const element = document.querySelector('#df-95935209-72f3-4173-8e23-e1f6f7bad254');\n",
              "          const dataTable =\n",
              "            await google.colab.kernel.invokeFunction('convertToInteractive',\n",
              "                                                     [key], {});\n",
              "          if (!dataTable) return;\n",
              "\n",
              "          const docLinkHtml = 'Like what you see? Visit the ' +\n",
              "            '<a target=\"_blank\" href=https://colab.research.google.com/notebooks/data_table.ipynb>data table notebook</a>'\n",
              "            + ' to learn more about interactive tables.';\n",
              "          element.innerHTML = '';\n",
              "          dataTable['output_type'] = 'display_data';\n",
              "          await google.colab.output.renderOutput(dataTable, element);\n",
              "          const docLink = document.createElement('div');\n",
              "          docLink.innerHTML = docLinkHtml;\n",
              "          element.appendChild(docLink);\n",
              "        }\n",
              "      </script>\n",
              "    </div>\n",
              "  </div>\n",
              "  "
            ]
          },
          "metadata": {},
          "execution_count": 19
        }
      ]
    },
    {
      "cell_type": "code",
      "source": [
        "df['name'].unique()"
      ],
      "metadata": {
        "colab": {
          "base_uri": "https://localhost:8080/"
        },
        "id": "sQCXnFtwMVkf",
        "outputId": "bd46f4b3-dfc6-4d7f-e527-c0feb92c7a49"
      },
      "execution_count": null,
      "outputs": [
        {
          "output_type": "execute_result",
          "data": {
            "text/plain": [
              "array(['Cr1', 'Cr2', 'Cr3', 'Cr4', 'Cr5', 'Cr6', 'Cr7', 'Cr8', 'Cr9',\n",
              "       'Cr10', 'large cell carcinoma', 'adenocarcinoma',\n",
              "       'non-small-cell lung carcinoma', 'squamous cell carcinoma'],\n",
              "      dtype=object)"
            ]
          },
          "metadata": {},
          "execution_count": 20
        }
      ]
    },
    {
      "cell_type": "code",
      "source": [
        "df = df.replace(to_replace =['Cr1', 'Cr2', 'Cr3', 'Cr4', 'Cr5', 'Cr6', 'Cr7', 'Cr8', 'Cr9',\n",
        "       'Cr10'], value ='adenocarcinoma')"
      ],
      "metadata": {
        "id": "PGrLWRjjMXR2"
      },
      "execution_count": null,
      "outputs": []
    },
    {
      "cell_type": "code",
      "source": [
        "num = df['name'].unique()"
      ],
      "metadata": {
        "id": "4G4LVoFOMY_a"
      },
      "execution_count": null,
      "outputs": []
    },
    {
      "cell_type": "code",
      "source": [
        "df"
      ],
      "metadata": {
        "colab": {
          "base_uri": "https://localhost:8080/",
          "height": 463
        },
        "id": "-Pe6WAbRMaW_",
        "outputId": "8c461e5b-78a8-4093-99de-96111e3126ea"
      },
      "execution_count": null,
      "outputs": [
        {
          "output_type": "execute_result",
          "data": {
            "text/plain": [
              "      id            name  label attributes  \\\n",
              "0     16  adenocarcinoma      9          1   \n",
              "1     17  adenocarcinoma      9          2   \n",
              "2     18  adenocarcinoma      9          3   \n",
              "3     20  adenocarcinoma      9          4   \n",
              "4     21  adenocarcinoma      9          5   \n",
              "..   ...             ...    ...        ...   \n",
              "529  616  adenocarcinoma     20          1   \n",
              "530  617  adenocarcinoma     20          2   \n",
              "531  618  adenocarcinoma     20          3   \n",
              "532  619  adenocarcinoma     20          4   \n",
              "533  620  adenocarcinoma     20          5   \n",
              "\n",
              "                                                points  \\\n",
              "0    [[189,308],[188,306],[188,305],[187,303],[187,...   \n",
              "1    [[154,303],[154,301],[154,299],[154,297],[154,...   \n",
              "2    [[197,319],[194,320],[193,321],[193,323],[193,...   \n",
              "3    [[193,329],[196,328],[198,327],[201,326],[203,...   \n",
              "4    [[150,283],[152,282],[154,281],[154,280],[156,...   \n",
              "..                                                 ...   \n",
              "529  [[159,347],[163,345],[164,344],[165,343],[167,...   \n",
              "530  [[166,329],[171,325],[175,325],[175,324],[177,...   \n",
              "531  [[184,340],[184,336],[184,332],[185,330],[188,...   \n",
              "532  [[161,344],[165,342],[168,341],[168,340],[174,...   \n",
              "533  [[184,337],[187,332],[187,326],[186,325],[186,...   \n",
              "\n",
              "                              image  \n",
              "0     /media/category_52/000078.jpg  \n",
              "1     /media/category_52/000079.jpg  \n",
              "2     /media/category_52/000080.jpg  \n",
              "3     /media/category_52/000081.jpg  \n",
              "4     /media/category_52/000082.jpg  \n",
              "..                              ...  \n",
              "529  /media/category_153/000033.jpg  \n",
              "530  /media/category_153/000034.jpg  \n",
              "531  /media/category_153/000035.jpg  \n",
              "532  /media/category_153/000036.jpg  \n",
              "533  /media/category_153/000037.jpg  \n",
              "\n",
              "[534 rows x 6 columns]"
            ],
            "text/html": [
              "\n",
              "  <div id=\"df-586a0f15-feb3-4f54-b4d4-07a628668938\">\n",
              "    <div class=\"colab-df-container\">\n",
              "      <div>\n",
              "<style scoped>\n",
              "    .dataframe tbody tr th:only-of-type {\n",
              "        vertical-align: middle;\n",
              "    }\n",
              "\n",
              "    .dataframe tbody tr th {\n",
              "        vertical-align: top;\n",
              "    }\n",
              "\n",
              "    .dataframe thead th {\n",
              "        text-align: right;\n",
              "    }\n",
              "</style>\n",
              "<table border=\"1\" class=\"dataframe\">\n",
              "  <thead>\n",
              "    <tr style=\"text-align: right;\">\n",
              "      <th></th>\n",
              "      <th>id</th>\n",
              "      <th>name</th>\n",
              "      <th>label</th>\n",
              "      <th>attributes</th>\n",
              "      <th>points</th>\n",
              "      <th>image</th>\n",
              "    </tr>\n",
              "  </thead>\n",
              "  <tbody>\n",
              "    <tr>\n",
              "      <th>0</th>\n",
              "      <td>16</td>\n",
              "      <td>adenocarcinoma</td>\n",
              "      <td>9</td>\n",
              "      <td>1</td>\n",
              "      <td>[[189,308],[188,306],[188,305],[187,303],[187,...</td>\n",
              "      <td>/media/category_52/000078.jpg</td>\n",
              "    </tr>\n",
              "    <tr>\n",
              "      <th>1</th>\n",
              "      <td>17</td>\n",
              "      <td>adenocarcinoma</td>\n",
              "      <td>9</td>\n",
              "      <td>2</td>\n",
              "      <td>[[154,303],[154,301],[154,299],[154,297],[154,...</td>\n",
              "      <td>/media/category_52/000079.jpg</td>\n",
              "    </tr>\n",
              "    <tr>\n",
              "      <th>2</th>\n",
              "      <td>18</td>\n",
              "      <td>adenocarcinoma</td>\n",
              "      <td>9</td>\n",
              "      <td>3</td>\n",
              "      <td>[[197,319],[194,320],[193,321],[193,323],[193,...</td>\n",
              "      <td>/media/category_52/000080.jpg</td>\n",
              "    </tr>\n",
              "    <tr>\n",
              "      <th>3</th>\n",
              "      <td>20</td>\n",
              "      <td>adenocarcinoma</td>\n",
              "      <td>9</td>\n",
              "      <td>4</td>\n",
              "      <td>[[193,329],[196,328],[198,327],[201,326],[203,...</td>\n",
              "      <td>/media/category_52/000081.jpg</td>\n",
              "    </tr>\n",
              "    <tr>\n",
              "      <th>4</th>\n",
              "      <td>21</td>\n",
              "      <td>adenocarcinoma</td>\n",
              "      <td>9</td>\n",
              "      <td>5</td>\n",
              "      <td>[[150,283],[152,282],[154,281],[154,280],[156,...</td>\n",
              "      <td>/media/category_52/000082.jpg</td>\n",
              "    </tr>\n",
              "    <tr>\n",
              "      <th>...</th>\n",
              "      <td>...</td>\n",
              "      <td>...</td>\n",
              "      <td>...</td>\n",
              "      <td>...</td>\n",
              "      <td>...</td>\n",
              "      <td>...</td>\n",
              "    </tr>\n",
              "    <tr>\n",
              "      <th>529</th>\n",
              "      <td>616</td>\n",
              "      <td>adenocarcinoma</td>\n",
              "      <td>20</td>\n",
              "      <td>1</td>\n",
              "      <td>[[159,347],[163,345],[164,344],[165,343],[167,...</td>\n",
              "      <td>/media/category_153/000033.jpg</td>\n",
              "    </tr>\n",
              "    <tr>\n",
              "      <th>530</th>\n",
              "      <td>617</td>\n",
              "      <td>adenocarcinoma</td>\n",
              "      <td>20</td>\n",
              "      <td>2</td>\n",
              "      <td>[[166,329],[171,325],[175,325],[175,324],[177,...</td>\n",
              "      <td>/media/category_153/000034.jpg</td>\n",
              "    </tr>\n",
              "    <tr>\n",
              "      <th>531</th>\n",
              "      <td>618</td>\n",
              "      <td>adenocarcinoma</td>\n",
              "      <td>20</td>\n",
              "      <td>3</td>\n",
              "      <td>[[184,340],[184,336],[184,332],[185,330],[188,...</td>\n",
              "      <td>/media/category_153/000035.jpg</td>\n",
              "    </tr>\n",
              "    <tr>\n",
              "      <th>532</th>\n",
              "      <td>619</td>\n",
              "      <td>adenocarcinoma</td>\n",
              "      <td>20</td>\n",
              "      <td>4</td>\n",
              "      <td>[[161,344],[165,342],[168,341],[168,340],[174,...</td>\n",
              "      <td>/media/category_153/000036.jpg</td>\n",
              "    </tr>\n",
              "    <tr>\n",
              "      <th>533</th>\n",
              "      <td>620</td>\n",
              "      <td>adenocarcinoma</td>\n",
              "      <td>20</td>\n",
              "      <td>5</td>\n",
              "      <td>[[184,337],[187,332],[187,326],[186,325],[186,...</td>\n",
              "      <td>/media/category_153/000037.jpg</td>\n",
              "    </tr>\n",
              "  </tbody>\n",
              "</table>\n",
              "<p>534 rows × 6 columns</p>\n",
              "</div>\n",
              "      <button class=\"colab-df-convert\" onclick=\"convertToInteractive('df-586a0f15-feb3-4f54-b4d4-07a628668938')\"\n",
              "              title=\"Convert this dataframe to an interactive table.\"\n",
              "              style=\"display:none;\">\n",
              "        \n",
              "  <svg xmlns=\"http://www.w3.org/2000/svg\" height=\"24px\"viewBox=\"0 0 24 24\"\n",
              "       width=\"24px\">\n",
              "    <path d=\"M0 0h24v24H0V0z\" fill=\"none\"/>\n",
              "    <path d=\"M18.56 5.44l.94 2.06.94-2.06 2.06-.94-2.06-.94-.94-2.06-.94 2.06-2.06.94zm-11 1L8.5 8.5l.94-2.06 2.06-.94-2.06-.94L8.5 2.5l-.94 2.06-2.06.94zm10 10l.94 2.06.94-2.06 2.06-.94-2.06-.94-.94-2.06-.94 2.06-2.06.94z\"/><path d=\"M17.41 7.96l-1.37-1.37c-.4-.4-.92-.59-1.43-.59-.52 0-1.04.2-1.43.59L10.3 9.45l-7.72 7.72c-.78.78-.78 2.05 0 2.83L4 21.41c.39.39.9.59 1.41.59.51 0 1.02-.2 1.41-.59l7.78-7.78 2.81-2.81c.8-.78.8-2.07 0-2.86zM5.41 20L4 18.59l7.72-7.72 1.47 1.35L5.41 20z\"/>\n",
              "  </svg>\n",
              "      </button>\n",
              "      \n",
              "  <style>\n",
              "    .colab-df-container {\n",
              "      display:flex;\n",
              "      flex-wrap:wrap;\n",
              "      gap: 12px;\n",
              "    }\n",
              "\n",
              "    .colab-df-convert {\n",
              "      background-color: #E8F0FE;\n",
              "      border: none;\n",
              "      border-radius: 50%;\n",
              "      cursor: pointer;\n",
              "      display: none;\n",
              "      fill: #1967D2;\n",
              "      height: 32px;\n",
              "      padding: 0 0 0 0;\n",
              "      width: 32px;\n",
              "    }\n",
              "\n",
              "    .colab-df-convert:hover {\n",
              "      background-color: #E2EBFA;\n",
              "      box-shadow: 0px 1px 2px rgba(60, 64, 67, 0.3), 0px 1px 3px 1px rgba(60, 64, 67, 0.15);\n",
              "      fill: #174EA6;\n",
              "    }\n",
              "\n",
              "    [theme=dark] .colab-df-convert {\n",
              "      background-color: #3B4455;\n",
              "      fill: #D2E3FC;\n",
              "    }\n",
              "\n",
              "    [theme=dark] .colab-df-convert:hover {\n",
              "      background-color: #434B5C;\n",
              "      box-shadow: 0px 1px 3px 1px rgba(0, 0, 0, 0.15);\n",
              "      filter: drop-shadow(0px 1px 2px rgba(0, 0, 0, 0.3));\n",
              "      fill: #FFFFFF;\n",
              "    }\n",
              "  </style>\n",
              "\n",
              "      <script>\n",
              "        const buttonEl =\n",
              "          document.querySelector('#df-586a0f15-feb3-4f54-b4d4-07a628668938 button.colab-df-convert');\n",
              "        buttonEl.style.display =\n",
              "          google.colab.kernel.accessAllowed ? 'block' : 'none';\n",
              "\n",
              "        async function convertToInteractive(key) {\n",
              "          const element = document.querySelector('#df-586a0f15-feb3-4f54-b4d4-07a628668938');\n",
              "          const dataTable =\n",
              "            await google.colab.kernel.invokeFunction('convertToInteractive',\n",
              "                                                     [key], {});\n",
              "          if (!dataTable) return;\n",
              "\n",
              "          const docLinkHtml = 'Like what you see? Visit the ' +\n",
              "            '<a target=\"_blank\" href=https://colab.research.google.com/notebooks/data_table.ipynb>data table notebook</a>'\n",
              "            + ' to learn more about interactive tables.';\n",
              "          element.innerHTML = '';\n",
              "          dataTable['output_type'] = 'display_data';\n",
              "          await google.colab.output.renderOutput(dataTable, element);\n",
              "          const docLink = document.createElement('div');\n",
              "          docLink.innerHTML = docLinkHtml;\n",
              "          element.appendChild(docLink);\n",
              "        }\n",
              "      </script>\n",
              "    </div>\n",
              "  </div>\n",
              "  "
            ]
          },
          "metadata": {},
          "execution_count": 23
        }
      ]
    },
    {
      "cell_type": "code",
      "source": [
        "df1 = df\n",
        "for i in range(len(df['name'])):\n",
        "    for j in range(len(num)):\n",
        "        if df['name'][i] == num[j]:\n",
        "            df1['name'][i] = j"
      ],
      "metadata": {
        "colab": {
          "base_uri": "https://localhost:8080/"
        },
        "id": "vVGjF9LyMa9-",
        "outputId": "bc43ac4e-fe97-4069-bab3-423bc35701b7"
      },
      "execution_count": null,
      "outputs": [
        {
          "output_type": "stream",
          "name": "stderr",
          "text": [
            "/usr/local/lib/python3.7/dist-packages/ipykernel_launcher.py:5: SettingWithCopyWarning: \n",
            "A value is trying to be set on a copy of a slice from a DataFrame\n",
            "\n",
            "See the caveats in the documentation: https://pandas.pydata.org/pandas-docs/stable/user_guide/indexing.html#returning-a-view-versus-a-copy\n",
            "  \"\"\"\n"
          ]
        }
      ]
    },
    {
      "cell_type": "code",
      "source": [
        "#change string to np array\n",
        "df['points'] = df['points'].apply(lambda x: np.array(eval(x)), 0)"
      ],
      "metadata": {
        "id": "T0Z1AS2pMc8N"
      },
      "execution_count": null,
      "outputs": []
    },
    {
      "cell_type": "code",
      "source": [
        "dfnew = []"
      ],
      "metadata": {
        "id": "clv0ycrHMepZ"
      },
      "execution_count": null,
      "outputs": []
    },
    {
      "cell_type": "code",
      "source": [
        "origImage = cv2.imread(path  + df['image'][0])\n",
        "origImage = cv2.cvtColor(origImage, cv2.COLOR_BGR2GRAY, )\n",
        "plt.imshow(origImage,cmap = \"gray\")"
      ],
      "metadata": {
        "colab": {
          "base_uri": "https://localhost:8080/",
          "height": 286
        },
        "id": "ENX3sLXMMf34",
        "outputId": "89315da1-efa2-42c8-dd8b-80dbdb857366"
      },
      "execution_count": null,
      "outputs": [
        {
          "output_type": "execute_result",
          "data": {
            "text/plain": [
              "<matplotlib.image.AxesImage at 0x7f2e11655250>"
            ]
          },
          "metadata": {},
          "execution_count": 27
        },
        {
          "output_type": "display_data",
          "data": {
            "text/plain": [
              "<Figure size 432x288 with 1 Axes>"
            ],
            "image/png": "[encoded data removed]"
          },
          "metadata": {
            "needs_background": "light"
          }
        }
      ]
    },
    {
      "cell_type": "code",
      "source": [
        "from tqdm import tqdm\n",
        "from matplotlib.path import Path\n",
        "ar = []\n",
        "for ind in tqdm(range(len(df['image']))):\n",
        "    tupVerts= df['points'][ind]\n",
        "\n",
        "\n",
        "    x, y = np.meshgrid(np.arange(origImage.shape[0]), np.arange(origImage.shape[1])) # make a canvas with coordinates\n",
        "    x, y = x.flatten(), y.flatten()\n",
        "    points = np.vstack((x,y)).T \n",
        "\n",
        "    p = Path(tupVerts) # make a polygon\n",
        "    grid = p.contains_points(points)\n",
        "    mask = (grid.reshape(origImage.shape[0],origImage.shape[0])*1).astype('float32') # now you have a mask with points inside a polygon\n",
        "    mask = cv2.resize(mask, (128,128))\n",
        "    #mask = grid.reshape(origImage.shape[0],origImage.shape[0])*1\n",
        "    #mask = grid.reshape([128,128])*1 \n",
        "    #mask = cv2.resize(mask, (128, 128))\n",
        "    ar.append(mask)\n",
        "df['mask'] = ar"
      ],
      "metadata": {
        "colab": {
          "base_uri": "https://localhost:8080/"
        },
        "id": "-WYNMMDqMhLW",
        "outputId": "40e2e8a0-f870-4030-ac1b-54942a9bd8d8"
      },
      "execution_count": null,
      "outputs": [
        {
          "output_type": "stream",
          "name": "stderr",
          "text": [
            "100%|██████████| 534/534 [00:35<00:00, 15.23it/s]\n"
          ]
        }
      ]
    },
    {
      "cell_type": "code",
      "source": [
        "mask.shape"
      ],
      "metadata": {
        "colab": {
          "base_uri": "https://localhost:8080/"
        },
        "id": "zZtiLgKlqPv2",
        "outputId": "b888d3b7-ed01-4f0b-f556-266c6f8e2145"
      },
      "execution_count": null,
      "outputs": [
        {
          "output_type": "execute_result",
          "data": {
            "text/plain": [
              "(128, 128)"
            ]
          },
          "metadata": {},
          "execution_count": 29
        }
      ]
    },
    {
      "cell_type": "code",
      "source": [
        "origImage.shape[0]"
      ],
      "metadata": {
        "colab": {
          "base_uri": "https://localhost:8080/"
        },
        "id": "mPPVxyEnp916",
        "outputId": "6578df8b-eb3f-47be-edee-84550b3d4d24"
      },
      "execution_count": null,
      "outputs": [
        {
          "output_type": "execute_result",
          "data": {
            "text/plain": [
              "512"
            ]
          },
          "metadata": {},
          "execution_count": 30
        }
      ]
    },
    {
      "cell_type": "code",
      "source": [
        "plt.imshow((mask),cmap = \"gray\")"
      ],
      "metadata": {
        "colab": {
          "base_uri": "https://localhost:8080/",
          "height": 285
        },
        "id": "TtjtJUuNmNMG",
        "outputId": "11b77fa5-4786-4311-d1b2-e22590adecb0"
      },
      "execution_count": null,
      "outputs": [
        {
          "output_type": "execute_result",
          "data": {
            "text/plain": [
              "<matplotlib.image.AxesImage at 0x7f2e116ae710>"
            ]
          },
          "metadata": {},
          "execution_count": 31
        },
        {
          "output_type": "display_data",
          "data": {
            "text/plain": [
              "<Figure size 432x288 with 1 Axes>"
            ],
            "image/png": "[encoded data removed]"
          },
          "metadata": {
            "needs_background": "light"
          }
        }
      ]
    },
    {
      "cell_type": "code",
      "source": [
        "ar = []\n",
        "for ind in tqdm(range(len(df['image']))):\n",
        "    origImage = cv2.imread(path  + df['image'][ind])\n",
        "    origImage = cv2.resize(origImage, (128, 128))\n",
        "    origImage = cv2.cvtColor(origImage, cv2.COLOR_BGR2GRAY, )\n",
        "    ar.append(origImage)\n",
        "df['img'] = ar"
      ],
      "metadata": {
        "colab": {
          "base_uri": "https://localhost:8080/"
        },
        "id": "p1HeU2ouMkC8",
        "outputId": "e120ce57-c7f9-46e9-be40-356eb4d3185b"
      },
      "execution_count": null,
      "outputs": [
        {
          "output_type": "stream",
          "name": "stderr",
          "text": [
            "100%|██████████| 534/534 [00:03<00:00, 169.50it/s]\n"
          ]
        }
      ]
    },
    {
      "cell_type": "code",
      "source": [
        "origImage.shape"
      ],
      "metadata": {
        "colab": {
          "base_uri": "https://localhost:8080/"
        },
        "id": "JeCF-CvFzZzK",
        "outputId": "4e45d1a2-f9c1-4de7-b340-e5bd508d4e1c"
      },
      "execution_count": null,
      "outputs": [
        {
          "output_type": "execute_result",
          "data": {
            "text/plain": [
              "(128, 128)"
            ]
          },
          "metadata": {},
          "execution_count": 33
        }
      ]
    },
    {
      "cell_type": "code",
      "source": [
        "x = []\n",
        "y = []\n",
        "z = []\n",
        "for ind in tqdm(range(len(df))):\n",
        "    x.append(df['img'][ind])\n",
        "    y.append(df['mask'][ind])\n",
        "    z.append(df['name'][ind])"
      ],
      "metadata": {
        "colab": {
          "base_uri": "https://localhost:8080/"
        },
        "id": "9wJlU6rRMmPM",
        "outputId": "1f762154-f2af-4487-d10d-8ad10a84d5ec"
      },
      "execution_count": null,
      "outputs": [
        {
          "output_type": "stream",
          "name": "stderr",
          "text": [
            "100%|██████████| 534/534 [00:00<00:00, 53454.85it/s]\n"
          ]
        }
      ]
    },
    {
      "cell_type": "code",
      "source": [
        "from sklearn.model_selection import train_test_split\n",
        "X_train, X_test, y_train, y_test, z_train, z_test = train_test_split(x, y, z, test_size=0.2, random_state=10)"
      ],
      "metadata": {
        "id": "kJs3r_VgMosB"
      },
      "execution_count": null,
      "outputs": []
    },
    {
      "cell_type": "code",
      "source": [
        "import torch\n",
        "import torchvision\n",
        "from torchvision import transforms\n",
        "from torchsummary import summary\n",
        "from torch.utils.data import DataLoader,Dataset\n",
        "from PIL import Image\n",
        "\n",
        "import numpy as np\n",
        "import matplotlib.pyplot as plt  # для отрисовки картиночек\n",
        "class MyDataset(Dataset):\n",
        "    def __init__(self, data, targets, label, transform=None):\n",
        "        self.data = data\n",
        "        self.targets = torch.LongTensor(targets)\n",
        "        self.label = label\n",
        "        self.transform = transform\n",
        "\n",
        "    def __getitem__(self, index):\n",
        "        x = self.data[index]\n",
        "        y = self.targets[index]\n",
        "        z = self.label[index]\n",
        "        if self.transform:\n",
        "            x = Image.fromarray(self.data[index].astype(np.uint8))\n",
        "            x = self.transform(x)\n",
        "\n",
        "        return x, y, z\n",
        "\n",
        "    def __len__(self):\n",
        "        return len(self.data)\n",
        "%matplotlib inline\n",
        "transform = transforms.Compose([transforms.ToTensor()])\n",
        "dataset = MyDataset(X_train,y_train, z_train, transform=transform)\n",
        "trainloader = DataLoader(dataset, batch_size=4)\n",
        "\n",
        "testset = MyDataset(X_test,y_test, z_test, transform=transform)\n",
        "testloader = DataLoader(testset, batch_size=4)"
      ],
      "metadata": {
        "colab": {
          "base_uri": "https://localhost:8080/"
        },
        "id": "5FNrAulGNoGZ",
        "outputId": "625b3d8c-b244-44ac-a107-e06ce2422a88"
      },
      "execution_count": null,
      "outputs": [
        {
          "output_type": "stream",
          "name": "stderr",
          "text": [
            "/usr/local/lib/python3.7/dist-packages/ipykernel_launcher.py:13: UserWarning: Creating a tensor from a list of numpy.ndarrays is extremely slow. Please consider converting the list to a single numpy.ndarray with numpy.array() before converting to a tensor. (Triggered internally at  ../torch/csrc/utils/tensor_new.cpp:210.)\n",
            "  del sys.path[0]\n"
          ]
        }
      ]
    },
    {
      "cell_type": "code",
      "source": [
        "cnt = 0\n",
        "temp = 0\n",
        "for i, batch in enumerate(tqdm(trainloader)):\n",
        "        X_batch, y_batch, z_batch = batch\n",
        "        cnt = i\n",
        "        if i % 2000 == 1999:\n",
        "            temp += 1 \n",
        "cnt,temp"
      ],
      "metadata": {
        "colab": {
          "base_uri": "https://localhost:8080/"
        },
        "id": "T2XwQyYlNqOx",
        "outputId": "ce6b1317-7ad6-416c-8ab7-44a6e93d09ff"
      },
      "execution_count": null,
      "outputs": [
        {
          "output_type": "stream",
          "name": "stderr",
          "text": [
            "100%|██████████| 107/107 [00:00<00:00, 1343.23it/s]\n"
          ]
        },
        {
          "output_type": "execute_result",
          "data": {
            "text/plain": [
              "(106, 0)"
            ]
          },
          "metadata": {},
          "execution_count": 37
        }
      ]
    },
    {
      "cell_type": "code",
      "source": [
        "device = torch.device('cuda' if torch.cuda.is_available() else 'cpu')"
      ],
      "metadata": {
        "id": "-TZCf_f_Ovl3"
      },
      "execution_count": null,
      "outputs": []
    },
    {
      "cell_type": "code",
      "source": [
        "def dice_loss(pred, target):\n",
        "    pred = torch.sigmoid(pred)\n",
        "\n",
        "    pred = pred.contiguous().view(-1)\n",
        "    target = target.contiguous().view(-1)\n",
        "\n",
        "    intersection = torch.sum(pred * target)\n",
        "    pred_sum = torch.sum(pred * pred)\n",
        "    target_sum = torch.sum(target * target)\n",
        "\n",
        "    return 1 - ((2. * intersection + 1e-5) / (pred_sum + target_sum + 1e-5))"
      ],
      "metadata": {
        "id": "Cd4BGyUiWhe-"
      },
      "execution_count": null,
      "outputs": []
    },
    {
      "cell_type": "code",
      "source": [
        "#!pip install easydict"
      ],
      "metadata": {
        "id": "GRHo27bLW4Pb"
      },
      "execution_count": null,
      "outputs": []
    },
    {
      "cell_type": "code",
      "source": [
        "epochs = 300 #use 200 \n",
        "lr = 0.01\n",
        "decayRate = 0.9"
      ],
      "metadata": {
        "id": "2DkRPPpo1hkf"
      },
      "execution_count": null,
      "outputs": []
    },
    {
      "cell_type": "code",
      "source": [
        "import torch.nn as nn\n",
        "import torch.optim as optim\n",
        "from torch.optim.lr_scheduler import StepLR\n",
        "from torch.optim import SGD\n",
        "# loss function\n",
        "#criterion = nn.CrossEntropyLoss()\n",
        "criterion = dice_loss\n",
        "#optimizer = optim.Adam(model.parameters(), lr=lr) \n",
        "#optimizer = optim.RMSprop(model.parameters(), lr=0.0001, weight_decay=1e-8, momentum=0.9)\n",
        "optimizer = SGD(model.parameters(), lr=1e-2, momentum=0.9, weight_decay=1e-4)\n",
        "# optimizer\n",
        "#optimizer = optim.Adam(transunet.parameters(), lr=0.01)"
      ],
      "metadata": {
        "id": "mKNH9dxRO-bF"
      },
      "execution_count": null,
      "outputs": []
    },
    {
      "cell_type": "code",
      "source": [
        "error = []\n",
        "test_error = []\n",
        "for epoch in range(100):       \n",
        "        for ind, batch in enumerate(trainloader):\n",
        "          imgs, true_masks, label= batch\n",
        "          images = imgs\n",
        "          images = images.to(device=device, dtype=torch.float32)\n",
        "          #print(images.shape)\n",
        "          label = label.to(device = device, dtype = torch.long)\n",
        "          true_masks = (true_masks.to(device=device, dtype=torch.float32))\n",
        "          #print('true_masks ',true_masks)\n",
        "          output = model(images)\n",
        "          #print(output)\n",
        "          output = torch.squeeze(output,1)\n",
        "          output = output.to(device=device, dtype=torch.float32)\n",
        "          loss = criterion(output.squeeze(0), true_masks.squeeze(0))\n",
        "          #loss = criterion(output, true_masks)\n",
        "          #if (epoch%10 == 0):\n",
        "          #print(ind)\n",
        "          if(ind ==0): \n",
        "              error.append(loss.item())              \n",
        "              #if (epoch%10 ==0):\n",
        "              #    print(epoch, ' ',loss.item())\n",
        "\n",
        "          optimizer.zero_grad()\n",
        "          loss.backward() \n",
        "          #nn.utils.clip_grad_value_(model.parameters(), 0.1)\n",
        "          optimizer.step()\n",
        "        with torch.no_grad():\n",
        "          for ind, batch in enumerate(testloader):\n",
        "            imgs, true_masks, label= batch\n",
        "            images = imgs\n",
        "            images = images.to(device=device, dtype=torch.float32)\n",
        "            #print(images.shape)\n",
        "            label = label.to(device = device, dtype = torch.long)\n",
        "            true_masks = (true_masks.to(device=device, dtype=torch.float32))\n",
        "            #print('true_masks ',true_masks)\n",
        "            test_output = model(images)\n",
        "            test_output = torch.squeeze(test_output,1)\n",
        "            test_output = test_output.to(device=device, dtype=torch.float32)\n",
        "            test_loss = criterion(test_output.squeeze(0), true_masks.squeeze(0))\n",
        "            if(ind ==0): \n",
        "              test_error.append(test_loss.item())              \n",
        "              if (epoch%10 ==5):\n",
        "                print(epoch, ' train loss: ',loss.item(), ' test loss ', test_loss.item())\n",
        "          "
      ],
      "metadata": {
        "colab": {
          "base_uri": "https://localhost:8080/",
          "height": 545
        },
        "id": "VU3tq436NtVR",
        "outputId": "b2a6a42e-8b58-46a2-a241-8ff07880da72"
      },
      "execution_count": null,
      "outputs": [
        {
          "output_type": "stream",
          "name": "stdout",
          "text": [
            "5  train loss:  0.10760253667831421  test loss  0.09472686052322388\n",
            "15  train loss:  0.07944947481155396  test loss  0.04797327518463135\n",
            "25  train loss:  0.051988303661346436  test loss  0.04809391498565674\n",
            "35  train loss:  0.04582095146179199  test loss  0.04854142665863037\n",
            "45  train loss:  0.03412735462188721  test loss  0.05143457651138306\n",
            "55  train loss:  0.03566122055053711  test loss  0.074901282787323\n",
            "65  train loss:  0.03779512643814087  test loss  0.08263325691223145\n",
            "75  train loss:  0.027669429779052734  test loss  0.07642680406570435\n",
            "85  train loss:  0.014428436756134033  test loss  0.05388575792312622\n"
          ]
        },
        {
          "output_type": "error",
          "ename": "KeyboardInterrupt",
          "evalue": "ignored",
          "traceback": [
            "\u001b[0;31m---------------------------------------------------------------------------\u001b[0m",
            "\u001b[0;31mKeyboardInterrupt\u001b[0m                         Traceback (most recent call last)",
            "\u001b[0;32m<ipython-input-43-6f9f96e257ba>\u001b[0m in \u001b[0;36m<module>\u001b[0;34m()\u001b[0m\n\u001b[1;32m     26\u001b[0m           \u001b[0mloss\u001b[0m\u001b[0;34m.\u001b[0m\u001b[0mbackward\u001b[0m\u001b[0;34m(\u001b[0m\u001b[0;34m)\u001b[0m\u001b[0;34m\u001b[0m\u001b[0;34m\u001b[0m\u001b[0m\n\u001b[1;32m     27\u001b[0m           \u001b[0;31m#nn.utils.clip_grad_value_(model.parameters(), 0.1)\u001b[0m\u001b[0;34m\u001b[0m\u001b[0;34m\u001b[0m\u001b[0;34m\u001b[0m\u001b[0m\n\u001b[0;32m---> 28\u001b[0;31m           \u001b[0moptimizer\u001b[0m\u001b[0;34m.\u001b[0m\u001b[0mstep\u001b[0m\u001b[0;34m(\u001b[0m\u001b[0;34m)\u001b[0m\u001b[0;34m\u001b[0m\u001b[0;34m\u001b[0m\u001b[0m\n\u001b[0m\u001b[1;32m     29\u001b[0m         \u001b[0;32mwith\u001b[0m \u001b[0mtorch\u001b[0m\u001b[0;34m.\u001b[0m\u001b[0mno_grad\u001b[0m\u001b[0;34m(\u001b[0m\u001b[0;34m)\u001b[0m\u001b[0;34m:\u001b[0m\u001b[0;34m\u001b[0m\u001b[0;34m\u001b[0m\u001b[0m\n\u001b[1;32m     30\u001b[0m           \u001b[0;32mfor\u001b[0m \u001b[0mind\u001b[0m\u001b[0;34m,\u001b[0m \u001b[0mbatch\u001b[0m \u001b[0;32min\u001b[0m \u001b[0menumerate\u001b[0m\u001b[0;34m(\u001b[0m\u001b[0mtestloader\u001b[0m\u001b[0;34m)\u001b[0m\u001b[0;34m:\u001b[0m\u001b[0;34m\u001b[0m\u001b[0;34m\u001b[0m\u001b[0m\n",
            "\u001b[0;32m/usr/local/lib/python3.7/dist-packages/torch/optim/optimizer.py\u001b[0m in \u001b[0;36mwrapper\u001b[0;34m(*args, **kwargs)\u001b[0m\n\u001b[1;32m     86\u001b[0m                 \u001b[0mprofile_name\u001b[0m \u001b[0;34m=\u001b[0m \u001b[0;34m\"Optimizer.step#{}.step\"\u001b[0m\u001b[0;34m.\u001b[0m\u001b[0mformat\u001b[0m\u001b[0;34m(\u001b[0m\u001b[0mobj\u001b[0m\u001b[0;34m.\u001b[0m\u001b[0m__class__\u001b[0m\u001b[0;34m.\u001b[0m\u001b[0m__name__\u001b[0m\u001b[0;34m)\u001b[0m\u001b[0;34m\u001b[0m\u001b[0;34m\u001b[0m\u001b[0m\n\u001b[1;32m     87\u001b[0m                 \u001b[0;32mwith\u001b[0m \u001b[0mtorch\u001b[0m\u001b[0;34m.\u001b[0m\u001b[0mautograd\u001b[0m\u001b[0;34m.\u001b[0m\u001b[0mprofiler\u001b[0m\u001b[0;34m.\u001b[0m\u001b[0mrecord_function\u001b[0m\u001b[0;34m(\u001b[0m\u001b[0mprofile_name\u001b[0m\u001b[0;34m)\u001b[0m\u001b[0;34m:\u001b[0m\u001b[0;34m\u001b[0m\u001b[0;34m\u001b[0m\u001b[0m\n\u001b[0;32m---> 88\u001b[0;31m                     \u001b[0;32mreturn\u001b[0m \u001b[0mfunc\u001b[0m\u001b[0;34m(\u001b[0m\u001b[0;34m*\u001b[0m\u001b[0margs\u001b[0m\u001b[0;34m,\u001b[0m \u001b[0;34m**\u001b[0m\u001b[0mkwargs\u001b[0m\u001b[0;34m)\u001b[0m\u001b[0;34m\u001b[0m\u001b[0;34m\u001b[0m\u001b[0m\n\u001b[0m\u001b[1;32m     89\u001b[0m             \u001b[0;32mreturn\u001b[0m \u001b[0mwrapper\u001b[0m\u001b[0;34m\u001b[0m\u001b[0;34m\u001b[0m\u001b[0m\n\u001b[1;32m     90\u001b[0m \u001b[0;34m\u001b[0m\u001b[0m\n",
            "\u001b[0;32m/usr/local/lib/python3.7/dist-packages/torch/autograd/grad_mode.py\u001b[0m in \u001b[0;36mdecorate_context\u001b[0;34m(*args, **kwargs)\u001b[0m\n\u001b[1;32m     25\u001b[0m         \u001b[0;32mdef\u001b[0m \u001b[0mdecorate_context\u001b[0m\u001b[0;34m(\u001b[0m\u001b[0;34m*\u001b[0m\u001b[0margs\u001b[0m\u001b[0;34m,\u001b[0m \u001b[0;34m**\u001b[0m\u001b[0mkwargs\u001b[0m\u001b[0;34m)\u001b[0m\u001b[0;34m:\u001b[0m\u001b[0;34m\u001b[0m\u001b[0;34m\u001b[0m\u001b[0m\n\u001b[1;32m     26\u001b[0m             \u001b[0;32mwith\u001b[0m \u001b[0mself\u001b[0m\u001b[0;34m.\u001b[0m\u001b[0mclone\u001b[0m\u001b[0;34m(\u001b[0m\u001b[0;34m)\u001b[0m\u001b[0;34m:\u001b[0m\u001b[0;34m\u001b[0m\u001b[0;34m\u001b[0m\u001b[0m\n\u001b[0;32m---> 27\u001b[0;31m                 \u001b[0;32mreturn\u001b[0m \u001b[0mfunc\u001b[0m\u001b[0;34m(\u001b[0m\u001b[0;34m*\u001b[0m\u001b[0margs\u001b[0m\u001b[0;34m,\u001b[0m \u001b[0;34m**\u001b[0m\u001b[0mkwargs\u001b[0m\u001b[0;34m)\u001b[0m\u001b[0;34m\u001b[0m\u001b[0;34m\u001b[0m\u001b[0m\n\u001b[0m\u001b[1;32m     28\u001b[0m         \u001b[0;32mreturn\u001b[0m \u001b[0mcast\u001b[0m\u001b[0;34m(\u001b[0m\u001b[0mF\u001b[0m\u001b[0;34m,\u001b[0m \u001b[0mdecorate_context\u001b[0m\u001b[0;34m)\u001b[0m\u001b[0;34m\u001b[0m\u001b[0;34m\u001b[0m\u001b[0m\n\u001b[1;32m     29\u001b[0m \u001b[0;34m\u001b[0m\u001b[0m\n",
            "\u001b[0;32m/usr/local/lib/python3.7/dist-packages/torch/optim/sgd.py\u001b[0m in \u001b[0;36mstep\u001b[0;34m(self, closure)\u001b[0m\n\u001b[1;32m    150\u001b[0m                   \u001b[0mdampening\u001b[0m\u001b[0;34m=\u001b[0m\u001b[0mdampening\u001b[0m\u001b[0;34m,\u001b[0m\u001b[0;34m\u001b[0m\u001b[0;34m\u001b[0m\u001b[0m\n\u001b[1;32m    151\u001b[0m                   \u001b[0mnesterov\u001b[0m\u001b[0;34m=\u001b[0m\u001b[0mnesterov\u001b[0m\u001b[0;34m,\u001b[0m\u001b[0;34m\u001b[0m\u001b[0;34m\u001b[0m\u001b[0m\n\u001b[0;32m--> 152\u001b[0;31m                   maximize=maximize,)\n\u001b[0m\u001b[1;32m    153\u001b[0m \u001b[0;34m\u001b[0m\u001b[0m\n\u001b[1;32m    154\u001b[0m             \u001b[0;31m# update momentum_buffers in state\u001b[0m\u001b[0;34m\u001b[0m\u001b[0;34m\u001b[0m\u001b[0;34m\u001b[0m\u001b[0m\n",
            "\u001b[0;32m/usr/local/lib/python3.7/dist-packages/torch/optim/_functional.py\u001b[0m in \u001b[0;36msgd\u001b[0;34m(params, d_p_list, momentum_buffer_list, weight_decay, momentum, lr, dampening, nesterov, maximize)\u001b[0m\n\u001b[1;32m    175\u001b[0m         \u001b[0md_p\u001b[0m \u001b[0;34m=\u001b[0m \u001b[0md_p_list\u001b[0m\u001b[0;34m[\u001b[0m\u001b[0mi\u001b[0m\u001b[0;34m]\u001b[0m\u001b[0;34m\u001b[0m\u001b[0;34m\u001b[0m\u001b[0m\n\u001b[1;32m    176\u001b[0m         \u001b[0;32mif\u001b[0m \u001b[0mweight_decay\u001b[0m \u001b[0;34m!=\u001b[0m \u001b[0;36m0\u001b[0m\u001b[0;34m:\u001b[0m\u001b[0;34m\u001b[0m\u001b[0;34m\u001b[0m\u001b[0m\n\u001b[0;32m--> 177\u001b[0;31m             \u001b[0md_p\u001b[0m \u001b[0;34m=\u001b[0m \u001b[0md_p\u001b[0m\u001b[0;34m.\u001b[0m\u001b[0madd\u001b[0m\u001b[0;34m(\u001b[0m\u001b[0mparam\u001b[0m\u001b[0;34m,\u001b[0m \u001b[0malpha\u001b[0m\u001b[0;34m=\u001b[0m\u001b[0mweight_decay\u001b[0m\u001b[0;34m)\u001b[0m\u001b[0;34m\u001b[0m\u001b[0;34m\u001b[0m\u001b[0m\n\u001b[0m\u001b[1;32m    178\u001b[0m \u001b[0;34m\u001b[0m\u001b[0m\n\u001b[1;32m    179\u001b[0m         \u001b[0;32mif\u001b[0m \u001b[0mmomentum\u001b[0m \u001b[0;34m!=\u001b[0m \u001b[0;36m0\u001b[0m\u001b[0;34m:\u001b[0m\u001b[0;34m\u001b[0m\u001b[0;34m\u001b[0m\u001b[0m\n",
            "\u001b[0;31mKeyboardInterrupt\u001b[0m: "
          ]
        }
      ]
    },
    {
      "cell_type": "code",
      "source": [
        "output"
      ],
      "metadata": {
        "id": "6M3IlwWbCY0M"
      },
      "execution_count": null,
      "outputs": []
    },
    {
      "cell_type": "code",
      "source": [
        "plt.figure(figsize=(10,7))\n",
        "plt.plot(np.arange(len(error)), error)\n",
        "plt.plot(np.arange(len(test_error)), test_error)\n",
        "plt.show()"
      ],
      "metadata": {
        "id": "ACWO3VLXLKen",
        "colab": {
          "base_uri": "https://localhost:8080/",
          "height": 428
        },
        "outputId": "deb2462e-006a-42c5-c8db-8e89192b50ea"
      },
      "execution_count": null,
      "outputs": [
        {
          "output_type": "display_data",
          "data": {
            "text/plain": [
              "<Figure size 720x504 with 1 Axes>"
            ],
            "image/png": "[encoded data removed]"
          },
          "metadata": {
            "needs_background": "light"
          }
        }
      ]
    },
    {
      "cell_type": "code",
      "source": [
        "predicted = []\n",
        "with torch.no_grad():\n",
        "    for data in tqdm(testloader):\n",
        "        img_np, mask, label = data\n",
        "        img = img_np.to(device=device, dtype=torch.float32)\n",
        "        output = model(img)\n",
        "        output = torch.sigmoid(torch.squeeze(output,1))\n",
        "        full_mask = output.cpu().numpy()\n",
        "        predicted.append([img_np, full_mask>0.5, mask, label])"
      ],
      "metadata": {
        "id": "NMYPufk7OX_-",
        "colab": {
          "base_uri": "https://localhost:8080/"
        },
        "outputId": "ef5a3e39-9c4f-443c-88fa-8f9b2008b435"
      },
      "execution_count": null,
      "outputs": [
        {
          "output_type": "stream",
          "name": "stderr",
          "text": [
            "100%|██████████| 27/27 [00:02<00:00, 11.01it/s]\n"
          ]
        }
      ]
    },
    {
      "cell_type": "code",
      "source": [
        "np.array(predicted).shape"
      ],
      "metadata": {
        "id": "fFYpdKiXO27k",
        "colab": {
          "base_uri": "https://localhost:8080/"
        },
        "outputId": "73d37555-9d08-4c6d-d4ab-5092b32a79b7"
      },
      "execution_count": null,
      "outputs": [
        {
          "output_type": "stream",
          "name": "stderr",
          "text": [
            "/usr/local/lib/python3.7/dist-packages/ipykernel_launcher.py:1: FutureWarning: The input object of type 'Tensor' is an array-like implementing one of the corresponding protocols (`__array__`, `__array_interface__` or `__array_struct__`); but not a sequence (or 0-D). In the future, this object will be coerced as if it was first converted using `np.array(obj)`. To retain the old behaviour, you have to either modify the type 'Tensor', or assign to an empty array created with `np.empty(correct_shape, dtype=object)`.\n",
            "  \"\"\"Entry point for launching an IPython kernel.\n",
            "/usr/local/lib/python3.7/dist-packages/ipykernel_launcher.py:1: VisibleDeprecationWarning: Creating an ndarray from ragged nested sequences (which is a list-or-tuple of lists-or-tuples-or ndarrays with different lengths or shapes) is deprecated. If you meant to do this, you must specify 'dtype=object' when creating the ndarray.\n",
            "  \"\"\"Entry point for launching an IPython kernel.\n"
          ]
        },
        {
          "output_type": "execute_result",
          "data": {
            "text/plain": [
              "(27, 4)"
            ]
          },
          "metadata": {},
          "execution_count": 46
        }
      ]
    },
    {
      "cell_type": "code",
      "source": [
        "plt.imshow(predicted[10][0][0][0].numpy(),cmap = \"gray\")"
      ],
      "metadata": {
        "id": "kKYfDsI6kmhr",
        "colab": {
          "base_uri": "https://localhost:8080/",
          "height": 285
        },
        "outputId": "234c0233-4eb2-470a-8cd4-3a3dad9940be"
      },
      "execution_count": null,
      "outputs": [
        {
          "output_type": "execute_result",
          "data": {
            "text/plain": [
              "<matplotlib.image.AxesImage at 0x7f2dfe2eb690>"
            ]
          },
          "metadata": {},
          "execution_count": 47
        },
        {
          "output_type": "display_data",
          "data": {
            "text/plain": [
              "<Figure size 432x288 with 1 Axes>"
            ],
            "image/png": "[encoded data removed]"
          },
          "metadata": {
            "needs_background": "light"
          }
        }
      ]
    },
    {
      "cell_type": "code",
      "source": [
        "plt.imshow((predicted[10][1][0]*1),cmap = \"gray\")"
      ],
      "metadata": {
        "id": "9RKn2-khkpT-",
        "colab": {
          "base_uri": "https://localhost:8080/",
          "height": 285
        },
        "outputId": "91c748d4-8617-4418-d620-9288e17731b5"
      },
      "execution_count": null,
      "outputs": [
        {
          "output_type": "execute_result",
          "data": {
            "text/plain": [
              "<matplotlib.image.AxesImage at 0x7f2dfe25f5d0>"
            ]
          },
          "metadata": {},
          "execution_count": 48
        },
        {
          "output_type": "display_data",
          "data": {
            "text/plain": [
              "<Figure size 432x288 with 1 Axes>"
            ],
            "image/png": "[encoded data removed]"
          },
          "metadata": {
            "needs_background": "light"
          }
        }
      ]
    },
    {
      "cell_type": "code",
      "source": [
        "plt.imshow((predicted[10][2][0]),cmap = \"gray\")"
      ],
      "metadata": {
        "id": "TomGbU62kxXy",
        "colab": {
          "base_uri": "https://localhost:8080/",
          "height": 285
        },
        "outputId": "65a15a57-b87a-4592-f0b8-7fabac52493b"
      },
      "execution_count": null,
      "outputs": [
        {
          "output_type": "execute_result",
          "data": {
            "text/plain": [
              "<matplotlib.image.AxesImage at 0x7f2dfe1da490>"
            ]
          },
          "metadata": {},
          "execution_count": 49
        },
        {
          "output_type": "display_data",
          "data": {
            "text/plain": [
              "<Figure size 432x288 with 1 Axes>"
            ],
            "image/png": "[encoded data removed]"
          },
          "metadata": {
            "needs_background": "light"
          }
        }
      ]
    },
    {
      "cell_type": "code",
      "source": [
        "plt.imshow(predicted[1][0][0][0].numpy(),cmap = \"gray\")"
      ],
      "metadata": {
        "id": "P-WI76NSlDBq",
        "colab": {
          "base_uri": "https://localhost:8080/",
          "height": 285
        },
        "outputId": "5b5188b8-cc35-4742-86dd-60109677401f"
      },
      "execution_count": null,
      "outputs": [
        {
          "output_type": "execute_result",
          "data": {
            "text/plain": [
              "<matplotlib.image.AxesImage at 0x7f2dfe18c510>"
            ]
          },
          "metadata": {},
          "execution_count": 50
        },
        {
          "output_type": "display_data",
          "data": {
            "text/plain": [
              "<Figure size 432x288 with 1 Axes>"
            ],
            "image/png": "[encoded data removed]"
          },
          "metadata": {
            "needs_background": "light"
          }
        }
      ]
    },
    {
      "cell_type": "code",
      "source": [
        "plt.imshow((predicted[1][1][0]*1),cmap = \"gray\")"
      ],
      "metadata": {
        "colab": {
          "base_uri": "https://localhost:8080/",
          "height": 285
        },
        "id": "SXSK18xe3fH0",
        "outputId": "7a35b321-96da-44d0-b973-8691aa78c79d"
      },
      "execution_count": null,
      "outputs": [
        {
          "output_type": "execute_result",
          "data": {
            "text/plain": [
              "<matplotlib.image.AxesImage at 0x7f2dfe178790>"
            ]
          },
          "metadata": {},
          "execution_count": 51
        },
        {
          "output_type": "display_data",
          "data": {
            "text/plain": [
              "<Figure size 432x288 with 1 Axes>"
            ],
            "image/png": "[encoded data removed]"
          },
          "metadata": {
            "needs_background": "light"
          }
        }
      ]
    },
    {
      "cell_type": "code",
      "source": [
        "plt.imshow((predicted[1][2][0]),cmap = \"gray\")"
      ],
      "metadata": {
        "colab": {
          "base_uri": "https://localhost:8080/",
          "height": 285
        },
        "id": "brmGYDcv3h1v",
        "outputId": "2ca8b010-d679-43f1-cdc1-65b930aff6b2"
      },
      "execution_count": null,
      "outputs": [
        {
          "output_type": "execute_result",
          "data": {
            "text/plain": [
              "<matplotlib.image.AxesImage at 0x7f2dfe0aae10>"
            ]
          },
          "metadata": {},
          "execution_count": 52
        },
        {
          "output_type": "display_data",
          "data": {
            "text/plain": [
              "<Figure size 432x288 with 1 Axes>"
            ],
            "image/png": "[encoded data removed]"
          },
          "metadata": {
            "needs_background": "light"
          }
        }
      ]
    },
    {
      "cell_type": "code",
      "source": [
        "torch.max(mask[0])"
      ],
      "metadata": {
        "id": "org_vHWo3lhP",
        "colab": {
          "base_uri": "https://localhost:8080/"
        },
        "outputId": "5c280409-46d8-4e99-e6d6-c1f1c4bcad98"
      },
      "execution_count": null,
      "outputs": [
        {
          "output_type": "execute_result",
          "data": {
            "text/plain": [
              "tensor(1)"
            ]
          },
          "metadata": {},
          "execution_count": 53
        }
      ]
    },
    {
      "cell_type": "code",
      "source": [
        "np.max(predicted[1][1][0]*1)"
      ],
      "metadata": {
        "id": "gUet3-AGTZ8Y",
        "colab": {
          "base_uri": "https://localhost:8080/"
        },
        "outputId": "b809c917-89cf-4bfe-c2f2-e07567433a15"
      },
      "execution_count": null,
      "outputs": [
        {
          "output_type": "execute_result",
          "data": {
            "text/plain": [
              "1"
            ]
          },
          "metadata": {},
          "execution_count": 54
        }
      ]
    },
    {
      "cell_type": "code",
      "source": [
        "np.min((predicted[1][1][0]))"
      ],
      "metadata": {
        "id": "pG-HAYoBKM32",
        "colab": {
          "base_uri": "https://localhost:8080/"
        },
        "outputId": "5d8ec773-1623-48cf-d68c-c3bcf335f082"
      },
      "execution_count": null,
      "outputs": [
        {
          "output_type": "execute_result",
          "data": {
            "text/plain": [
              "False"
            ]
          },
          "metadata": {},
          "execution_count": 55
        }
      ]
    },
    {
      "cell_type": "code",
      "source": [
        "np.min(predicted[10][1][0])"
      ],
      "metadata": {
        "id": "u1F4qY7jKUIx",
        "colab": {
          "base_uri": "https://localhost:8080/"
        },
        "outputId": "d4564115-5761-4c20-d58d-cc291f3ff858"
      },
      "execution_count": null,
      "outputs": [
        {
          "output_type": "execute_result",
          "data": {
            "text/plain": [
              "False"
            ]
          },
          "metadata": {},
          "execution_count": 56
        }
      ]
    },
    {
      "cell_type": "code",
      "source": [
        "def dice_coeff(pred, target):\n",
        "    m1 = np.array(pred).flatten()\n",
        "    m2 = np.array(target).flatten()\n",
        "    #smooth = 1.\n",
        "    #num = pred.size(0)\n",
        "    #m1 = pred.view(num, -1).float()  # Flatten\n",
        "    #m2 = target.view(num, -1).float()  # Flatten\n",
        "    intersection = np.sum(m1 * m2)\n",
        "\n",
        "    return (2. * intersection ) / (m1.sum() + m2.sum() )"
      ],
      "metadata": {
        "id": "uJ5waLLxK7NU"
      },
      "execution_count": null,
      "outputs": []
    },
    {
      "cell_type": "code",
      "source": [
        "dice_coeff(predicted[1][1][0]*1, predicted[1][2][0])"
      ],
      "metadata": {
        "colab": {
          "base_uri": "https://localhost:8080/"
        },
        "id": "NngkZTqN-oC5",
        "outputId": "4c0bfa89-101f-4279-8137-ffc8e61a0aed"
      },
      "execution_count": null,
      "outputs": [
        {
          "output_type": "execute_result",
          "data": {
            "text/plain": [
              "0.8421052631578947"
            ]
          },
          "metadata": {},
          "execution_count": 58
        }
      ]
    },
    {
      "cell_type": "code",
      "source": [
        "dice_coeff(predicted[10][1][0]*1, predicted[10][2][0])"
      ],
      "metadata": {
        "colab": {
          "base_uri": "https://localhost:8080/"
        },
        "id": "0pK1i9KK-p5r",
        "outputId": "2a1a39f8-4c9a-4876-da2b-7a3734abb5d4"
      },
      "execution_count": null,
      "outputs": [
        {
          "output_type": "execute_result",
          "data": {
            "text/plain": [
              "0.926829268292683"
            ]
          },
          "metadata": {},
          "execution_count": 59
        }
      ]
    },
    {
      "cell_type": "code",
      "source": [
        "dices = []\n",
        "for i in range(len(predicted)):\n",
        "  dices.append(dice_coeff(predicted[i][1][0]*1, predicted[i][2][0]))"
      ],
      "metadata": {
        "id": "8YbCQina-sQ2"
      },
      "execution_count": null,
      "outputs": []
    },
    {
      "cell_type": "code",
      "source": [
        "np.mean(dices)"
      ],
      "metadata": {
        "colab": {
          "base_uri": "https://localhost:8080/"
        },
        "id": "4cYImQHd-uG4",
        "outputId": "2a961cfb-93e4-435a-ed04-afdec8f5e80f"
      },
      "execution_count": null,
      "outputs": [
        {
          "output_type": "execute_result",
          "data": {
            "text/plain": [
              "0.7340510827280878"
            ]
          },
          "metadata": {},
          "execution_count": 61
        }
      ]
    },
    {
      "cell_type": "code",
      "source": [],
      "metadata": {
        "id": "S70yncHF-v8g"
      },
      "execution_count": null,
      "outputs": []
    }
  ]
}