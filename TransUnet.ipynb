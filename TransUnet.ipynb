{
  "cells": [
    {
      "cell_type": "code",
      "execution_count": null,
      "metadata": {
        "colab": {
          "base_uri": "https://localhost:8080/"
        },
        "id": "iGsB0B_YKCgn",
        "outputId": "b903075a-78df-4687-a414-8bc26ad621db"
      },
      "outputs": [
        {
          "output_type": "stream",
          "name": "stdout",
          "text": [
            "Looking in indexes: https://pypi.org/simple, https://us-python.pkg.dev/colab-wheels/public/simple/\n",
            "Collecting einops\n",
            "  Downloading einops-0.6.0-py3-none-any.whl (41 kB)\n",
            "\u001b[K     |████████████████████████████████| 41 kB 583 kB/s \n",
            "\u001b[?25hInstalling collected packages: einops\n",
            "Successfully installed einops-0.6.0\n"
          ]
        }
      ],
      "source": [
        "!pip install einops\n"
      ]
    },
    {
      "cell_type": "code",
      "execution_count": null,
      "metadata": {
        "id": "JVf7CJiHJaSI"
      },
      "outputs": [],
      "source": [
        "import torch\n",
        "import torch.nn as nn"
      ]
    },
    {
      "cell_type": "code",
      "execution_count": null,
      "metadata": {
        "id": "VLi5Wj0VJd7B"
      },
      "outputs": [],
      "source": [
        "import numpy as np\n",
        "from einops import rearrange, repeat\n"
      ]
    },
    {
      "cell_type": "code",
      "execution_count": null,
      "metadata": {
        "id": "pbKXN76lJn9y"
      },
      "outputs": [],
      "source": [
        "class MultiHeadAttention(nn.Module):\n",
        "    def __init__(self, embedding_dim, head_num):\n",
        "        super().__init__()\n",
        "\n",
        "        self.head_num = head_num\n",
        "        self.dk = (embedding_dim // head_num) ** 1 / 2\n",
        "\n",
        "        self.qkv_layer = nn.Linear(embedding_dim, embedding_dim * 3, bias=False)\n",
        "        self.out_attention = nn.Linear(embedding_dim, embedding_dim, bias=False)\n",
        "\n",
        "    def forward(self, x, mask=None):\n",
        "        qkv = self.qkv_layer(x)\n",
        "\n",
        "        query, key, value = tuple(rearrange(qkv, 'b t (d k h ) -> k b h t d ', k=3, h=self.head_num))\n",
        "        energy = torch.einsum(\"... i d , ... j d -> ... i j\", query, key) * self.dk\n",
        "\n",
        "        if mask is not None:\n",
        "            energy = energy.masked_fill(mask, -np.inf)\n",
        "\n",
        "        attention = torch.softmax(energy, dim=-1)\n",
        "\n",
        "        x = torch.einsum(\"... i j , ... j d -> ... i d\", attention, value)\n",
        "\n",
        "        x = rearrange(x, \"b h t d -> b t (h d)\")\n",
        "        x = self.out_attention(x)\n",
        "\n",
        "        return x\n",
        "\n",
        "\n",
        "class MLP(nn.Module):\n",
        "    def __init__(self, embedding_dim, mlp_dim):\n",
        "        super().__init__()\n",
        "\n",
        "        self.mlp_layers = nn.Sequential(\n",
        "            nn.Linear(embedding_dim, mlp_dim),\n",
        "            nn.GELU(),\n",
        "            nn.Dropout(0.1),\n",
        "            nn.Linear(mlp_dim, embedding_dim),\n",
        "            nn.Dropout(0.1)\n",
        "        )\n",
        "\n",
        "    def forward(self, x):\n",
        "        x = self.mlp_layers(x)\n",
        "\n",
        "        return x\n",
        "\n",
        "\n",
        "class TransformerEncoderBlock(nn.Module):\n",
        "    def __init__(self, embedding_dim, head_num, mlp_dim):\n",
        "        super().__init__()\n",
        "\n",
        "        self.multi_head_attention = MultiHeadAttention(embedding_dim, head_num)\n",
        "        self.mlp = MLP(embedding_dim, mlp_dim)\n",
        "\n",
        "        self.layer_norm1 = nn.LayerNorm(embedding_dim)\n",
        "        self.layer_norm2 = nn.LayerNorm(embedding_dim)\n",
        "\n",
        "        self.dropout = nn.Dropout(0.1)\n",
        "\n",
        "    def forward(self, x):\n",
        "        _x = self.multi_head_attention(x)\n",
        "        _x = self.dropout(_x)\n",
        "        x = x + _x\n",
        "        x = self.layer_norm1(x)\n",
        "\n",
        "        _x = self.mlp(x)\n",
        "        x = x + _x\n",
        "        x = self.layer_norm2(x)\n",
        "\n",
        "        return x\n",
        "\n",
        "\n",
        "class TransformerEncoder(nn.Module):\n",
        "    def __init__(self, embedding_dim, head_num, mlp_dim, block_num=12):\n",
        "        super().__init__()\n",
        "\n",
        "        self.layer_blocks = nn.ModuleList(\n",
        "            [TransformerEncoderBlock(embedding_dim, head_num, mlp_dim) for _ in range(block_num)])\n",
        "\n",
        "    def forward(self, x):\n",
        "        for layer_block in self.layer_blocks:\n",
        "            x = layer_block(x)\n",
        "\n",
        "        return x\n",
        "\n",
        "\n",
        "class ViT(nn.Module):\n",
        "    def __init__(self, img_dim, in_channels, embedding_dim, head_num, mlp_dim,\n",
        "                 block_num, patch_dim, classification=True, num_classes=1):\n",
        "        super().__init__()\n",
        "\n",
        "        self.patch_dim = patch_dim\n",
        "        self.classification = classification\n",
        "        self.num_tokens = (img_dim // patch_dim) ** 2\n",
        "        self.token_dim = in_channels * (patch_dim ** 2)\n",
        "\n",
        "        self.projection = nn.Linear(self.token_dim, embedding_dim)\n",
        "        self.embedding = nn.Parameter(torch.rand(self.num_tokens + 1, embedding_dim))\n",
        "\n",
        "        self.cls_token = nn.Parameter(torch.randn(1, 1, embedding_dim))\n",
        "\n",
        "        self.dropout = nn.Dropout(0.1)\n",
        "\n",
        "        self.transformer = TransformerEncoder(embedding_dim, head_num, mlp_dim, block_num)\n",
        "\n",
        "        if self.classification:\n",
        "            self.mlp_head = nn.Linear(embedding_dim, num_classes)\n",
        "\n",
        "    def forward(self, x):\n",
        "        img_patches = rearrange(x,\n",
        "                                'b c (patch_x x) (patch_y y) -> b (x y) (patch_x patch_y c)',\n",
        "                                patch_x=self.patch_dim, patch_y=self.patch_dim)\n",
        "\n",
        "        batch_size, tokens, _ = img_patches.shape\n",
        "\n",
        "        project = self.projection(img_patches)\n",
        "        token = repeat(self.cls_token, 'b ... -> (b batch_size) ...',\n",
        "                       batch_size=batch_size)\n",
        "\n",
        "        patches = torch.cat([token, project], dim=1)\n",
        "        patches += self.embedding[:tokens + 1, :]\n",
        "\n",
        "        x = self.dropout(patches)\n",
        "        x = self.transformer(x)\n",
        "        x = self.mlp_head(x[:, 0, :]) if self.classification else x[:, 1:, :]\n",
        "\n",
        "        return x"
      ]
    },
    {
      "cell_type": "code",
      "execution_count": null,
      "metadata": {
        "id": "tvCfaQECLMCC"
      },
      "outputs": [],
      "source": [
        "vit = ViT(img_dim=128,\n",
        "              in_channels=3,\n",
        "              patch_dim=16,\n",
        "              embedding_dim=512,\n",
        "              block_num=6,\n",
        "              head_num=4,\n",
        "              mlp_dim=1024)"
      ]
    },
    {
      "cell_type": "code",
      "execution_count": null,
      "metadata": {
        "id": "SAsPu_vTKMRX"
      },
      "outputs": [],
      "source": [
        "class EncoderBottleneck(nn.Module):\n",
        "    def __init__(self, in_channels, out_channels, stride=1, base_width=64):\n",
        "        super().__init__()\n",
        "\n",
        "        self.downsample = nn.Sequential(\n",
        "            nn.Conv2d(in_channels, out_channels, kernel_size=1, stride=stride, bias=False),\n",
        "            nn.BatchNorm2d(out_channels)\n",
        "        )\n",
        "\n",
        "        width = int(out_channels * (base_width / 64))\n",
        "\n",
        "        self.conv1 = nn.Conv2d(in_channels, width, kernel_size=1, stride=1, bias=False)\n",
        "        self.norm1 = nn.BatchNorm2d(width)\n",
        "\n",
        "        self.conv2 = nn.Conv2d(width, width, kernel_size=3, stride=2, groups=1, padding=1, dilation=1, bias=False)\n",
        "        self.norm2 = nn.BatchNorm2d(width)\n",
        "\n",
        "        self.conv3 = nn.Conv2d(width, out_channels, kernel_size=1, stride=1, bias=False)\n",
        "        self.norm3 = nn.BatchNorm2d(out_channels)\n",
        "\n",
        "        self.relu = nn.ReLU(inplace=True)\n",
        "    def forward(self, x):\n",
        "        x_down = self.downsample(x)\n",
        "\n",
        "        x = self.conv1(x)\n",
        "        x = self.norm1(x)\n",
        "        x = self.relu(x)\n",
        "\n",
        "        x = self.conv2(x)\n",
        "        x = self.norm2(x)\n",
        "        x = self.relu(x)\n",
        "\n",
        "        x = self.conv3(x)\n",
        "        x = self.norm3(x)\n",
        "        x = x + x_down\n",
        "        x = self.relu(x)\n",
        "\n",
        "        return x"
      ]
    },
    {
      "cell_type": "code",
      "execution_count": null,
      "metadata": {
        "id": "x5tDDAaUKU0U"
      },
      "outputs": [],
      "source": [
        "class DecoderBottleneck(nn.Module):\n",
        "    def __init__(self, in_channels, out_channels, scale_factor=2):\n",
        "        super().__init__()\n",
        "\n",
        "        self.upsample = nn.Upsample(scale_factor=scale_factor, mode='bilinear', align_corners=True)\n",
        "        self.layer = nn.Sequential(\n",
        "            nn.Conv2d(in_channels, out_channels, kernel_size=3, stride=1, padding=1),\n",
        "            nn.BatchNorm2d(out_channels),\n",
        "            nn.ReLU(inplace=True),\n",
        "            nn.Conv2d(out_channels, out_channels, kernel_size=3, stride=1, padding=1),\n",
        "            nn.BatchNorm2d(out_channels),\n",
        "            nn.ReLU(inplace=True)\n",
        "        )\n",
        "\n",
        "    def forward(self, x, x_concat=None):\n",
        "        x = self.upsample(x)\n",
        "\n",
        "        if x_concat is not None:\n",
        "            x = torch.cat([x_concat, x], dim=1)\n",
        "\n",
        "        x = self.layer(x)\n",
        "        return x"
      ]
    },
    {
      "cell_type": "code",
      "execution_count": null,
      "metadata": {
        "id": "4Vg1GCbkKahG"
      },
      "outputs": [],
      "source": [
        "class Encoder(nn.Module):\n",
        "    def __init__(self, img_dim, in_channels, out_channels, head_num, mlp_dim, block_num, patch_dim):\n",
        "        super().__init__()\n",
        "\n",
        "        self.conv1 = nn.Conv2d(in_channels, out_channels, kernel_size=7, stride=2, padding=3, bias=False)\n",
        "        self.norm1 = nn.BatchNorm2d(out_channels)\n",
        "        self.relu = nn.ReLU(inplace=True)\n",
        "\n",
        "        self.encoder1 = EncoderBottleneck(out_channels, out_channels * 2, stride=2)\n",
        "        self.encoder2 = EncoderBottleneck(out_channels * 2, out_channels * 4, stride=2)\n",
        "        self.encoder3 = EncoderBottleneck(out_channels * 4, out_channels * 8, stride=2)\n",
        "\n",
        "        self.vit_img_dim = img_dim // patch_dim\n",
        "        self.vit = ViT(self.vit_img_dim, out_channels * 8, out_channels * 8,\n",
        "                       head_num, mlp_dim, block_num, patch_dim=1, classification=False)\n",
        "\n",
        "        self.conv2 = nn.Conv2d(out_channels * 8, 512, kernel_size=3, stride=1, padding=1)\n",
        "        self.norm2 = nn.BatchNorm2d(512)\n",
        "\n",
        "    def forward(self, x):\n",
        "        x = self.conv1(x)\n",
        "        x = self.norm1(x)\n",
        "        x1 = self.relu(x)\n",
        "\n",
        "        x2 = self.encoder1(x1)\n",
        "        x3 = self.encoder2(x2)\n",
        "        x = self.encoder3(x3)\n",
        "\n",
        "        x = self.vit(x)\n",
        "        x = rearrange(x, \"b (x y) c -> b c x y\", x=self.vit_img_dim, y=self.vit_img_dim)\n",
        "\n",
        "        x = self.conv2(x)\n",
        "        x = self.norm2(x)\n",
        "        x = self.relu(x)\n",
        "\n",
        "        return x, x1, x2, x3"
      ]
    },
    {
      "cell_type": "code",
      "execution_count": null,
      "metadata": {
        "id": "MwoHLdhkKc65"
      },
      "outputs": [],
      "source": [
        "class Decoder(nn.Module):\n",
        "    def __init__(self, out_channels, class_num):\n",
        "        super().__init__()\n",
        "\n",
        "        self.decoder1 = DecoderBottleneck(out_channels * 8, out_channels * 2)\n",
        "        self.decoder2 = DecoderBottleneck(out_channels * 4, out_channels)\n",
        "        self.decoder3 = DecoderBottleneck(out_channels * 2, int(out_channels * 1 / 2))\n",
        "        self.decoder4 = DecoderBottleneck(int(out_channels * 1 / 2), int(out_channels * 1 / 8))\n",
        "\n",
        "        self.conv1 = nn.Conv2d(int(out_channels * 1 / 8), class_num, kernel_size=1)\n",
        "\n",
        "    def forward(self, x, x1, x2, x3):\n",
        "        x = self.decoder1(x, x3)\n",
        "        x = self.decoder2(x, x2)\n",
        "        x = self.decoder3(x, x1)\n",
        "        x = self.decoder4(x)\n",
        "        x = self.conv1(x)\n",
        "\n",
        "        return x"
      ]
    },
    {
      "cell_type": "code",
      "execution_count": null,
      "metadata": {
        "id": "oP_-9l32KezW"
      },
      "outputs": [],
      "source": [
        "class TransUNet(nn.Module):\n",
        "    def __init__(self, img_dim, in_channels, out_channels, head_num, mlp_dim, block_num, patch_dim, class_num):\n",
        "        super().__init__()\n",
        "\n",
        "        self.encoder = Encoder(img_dim, in_channels, out_channels,\n",
        "                               head_num, mlp_dim, block_num, patch_dim)\n",
        "\n",
        "        self.decoder = Decoder(out_channels, class_num)\n",
        "\n",
        "    def forward(self, x):\n",
        "        x, x1, x2, x3 = self.encoder(x)\n",
        "        x = self.decoder(x, x1, x2, x3)\n",
        "\n",
        "        return x"
      ]
    },
    {
      "cell_type": "code",
      "execution_count": null,
      "metadata": {
        "id": "AIOwK3VkKgsV"
      },
      "outputs": [],
      "source": [
        "transunet = TransUNet(img_dim=128,\n",
        "                          in_channels=1,\n",
        "                          out_channels=128,\n",
        "                          head_num=4,\n",
        "                          mlp_dim=512,\n",
        "                          block_num=8,\n",
        "                          patch_dim=16,\n",
        "                          class_num=1).cuda()"
      ]
    },
    {
      "cell_type": "code",
      "execution_count": null,
      "metadata": {
        "colab": {
          "base_uri": "https://localhost:8080/"
        },
        "id": "93RWDGuPKtgm",
        "outputId": "8b2b7d75-3c20-458f-a99e-2104f6f95c32"
      },
      "outputs": [
        {
          "output_type": "stream",
          "name": "stdout",
          "text": [
            "66870129\n"
          ]
        }
      ],
      "source": [
        "print(sum(p.numel() for p in transunet.parameters()))\n",
        "#print(transunet(torch.randn(1, 1, 128, 128)).shape)"
      ]
    },
    {
      "cell_type": "code",
      "execution_count": null,
      "metadata": {
        "id": "WtbBGTN0LUpx"
      },
      "outputs": [],
      "source": [
        "from IPython.core.display import display, HTML\n",
        "from string import Template\n",
        "import cv2\n",
        "import matplotlib.pyplot as plt\n",
        "import numpy as np\n",
        "import pandas as pd\n",
        "import re\n",
        "from torch.utils.data import DataLoader,Dataset\n",
        "import numpy as np\n",
        "import matplotlib.pyplot as plt  # для отрисовки картиночек\n",
        "%matplotlib inline"
      ]
    },
    {
      "cell_type": "code",
      "execution_count": null,
      "metadata": {
        "id": "5sIVD22mMGFR"
      },
      "outputs": [],
      "source": [
        "import tqdm"
      ]
    },
    {
      "cell_type": "code",
      "execution_count": null,
      "metadata": {
        "colab": {
          "base_uri": "https://localhost:8080/"
        },
        "id": "MdEWw0EsMIeO",
        "outputId": "b08b05e2-b688-4782-c709-2fc770c5dea3"
      },
      "outputs": [
        {
          "output_type": "execute_result",
          "data": {
            "text/plain": [
              "True"
            ]
          },
          "metadata": {},
          "execution_count": 17
        }
      ],
      "source": [
        "import torch\n",
        "torch.cuda.is_available()"
      ]
    },
    {
      "cell_type": "code",
      "execution_count": null,
      "metadata": {
        "colab": {
          "base_uri": "https://localhost:8080/"
        },
        "id": "lPnYWXNiMKH6",
        "outputId": "8363f5b8-8f84-4094-f2ca-bc57c74ca5cb"
      },
      "outputs": [
        {
          "output_type": "stream",
          "name": "stdout",
          "text": [
            "Mounted at /content/drive\n"
          ]
        }
      ],
      "source": [
        "from google.colab import drive\n",
        "drive.mount('/content/drive')"
      ]
    },
    {
      "cell_type": "code",
      "execution_count": null,
      "metadata": {
        "id": "N_nZ_i74ML6R"
      },
      "outputs": [],
      "source": [
        "path = '/content/drive/MyDrive/'"
      ]
    },
    {
      "cell_type": "code",
      "execution_count": null,
      "metadata": {
        "id": "p5m1WpQiMRrQ"
      },
      "outputs": [],
      "source": [
        "df = pd.read_csv(path + 'media/train.csv')"
      ]
    },
    {
      "cell_type": "code",
      "execution_count": null,
      "metadata": {
        "colab": {
          "base_uri": "https://localhost:8080/",
          "height": 206
        },
        "id": "qy9GfhdDMTzk",
        "outputId": "9bcf86fa-5536-40a5-8849-5e31f1dec57c"
      },
      "outputs": [
        {
          "output_type": "execute_result",
          "data": {
            "text/plain": [
              "   id name  label attributes  \\\n",
              "0  16  Cr1      9          1   \n",
              "1  17  Cr1      9          2   \n",
              "2  18  Cr1      9          3   \n",
              "3  20  Cr1      9          4   \n",
              "4  21  Cr1      9          5   \n",
              "\n",
              "                                              points  \\\n",
              "0  [[189,308],[188,306],[188,305],[187,303],[187,...   \n",
              "1  [[154,303],[154,301],[154,299],[154,297],[154,...   \n",
              "2  [[197,319],[194,320],[193,321],[193,323],[193,...   \n",
              "3  [[193,329],[196,328],[198,327],[201,326],[203,...   \n",
              "4  [[150,283],[152,282],[154,281],[154,280],[156,...   \n",
              "\n",
              "                           image  \n",
              "0  /media/category_52/000078.jpg  \n",
              "1  /media/category_52/000079.jpg  \n",
              "2  /media/category_52/000080.jpg  \n",
              "3  /media/category_52/000081.jpg  \n",
              "4  /media/category_52/000082.jpg  "
            ],
            "text/html": [
              "\n",
              "  <div id=\"df-3e7ae641-ee33-4bd4-95fc-1861770b7dd5\">\n",
              "    <div class=\"colab-df-container\">\n",
              "      <div>\n",
              "<style scoped>\n",
              "    .dataframe tbody tr th:only-of-type {\n",
              "        vertical-align: middle;\n",
              "    }\n",
              "\n",
              "    .dataframe tbody tr th {\n",
              "        vertical-align: top;\n",
              "    }\n",
              "\n",
              "    .dataframe thead th {\n",
              "        text-align: right;\n",
              "    }\n",
              "</style>\n",
              "<table border=\"1\" class=\"dataframe\">\n",
              "  <thead>\n",
              "    <tr style=\"text-align: right;\">\n",
              "      <th></th>\n",
              "      <th>id</th>\n",
              "      <th>name</th>\n",
              "      <th>label</th>\n",
              "      <th>attributes</th>\n",
              "      <th>points</th>\n",
              "      <th>image</th>\n",
              "    </tr>\n",
              "  </thead>\n",
              "  <tbody>\n",
              "    <tr>\n",
              "      <th>0</th>\n",
              "      <td>16</td>\n",
              "      <td>Cr1</td>\n",
              "      <td>9</td>\n",
              "      <td>1</td>\n",
              "      <td>[[189,308],[188,306],[188,305],[187,303],[187,...</td>\n",
              "      <td>/media/category_52/000078.jpg</td>\n",
              "    </tr>\n",
              "    <tr>\n",
              "      <th>1</th>\n",
              "      <td>17</td>\n",
              "      <td>Cr1</td>\n",
              "      <td>9</td>\n",
              "      <td>2</td>\n",
              "      <td>[[154,303],[154,301],[154,299],[154,297],[154,...</td>\n",
              "      <td>/media/category_52/000079.jpg</td>\n",
              "    </tr>\n",
              "    <tr>\n",
              "      <th>2</th>\n",
              "      <td>18</td>\n",
              "      <td>Cr1</td>\n",
              "      <td>9</td>\n",
              "      <td>3</td>\n",
              "      <td>[[197,319],[194,320],[193,321],[193,323],[193,...</td>\n",
              "      <td>/media/category_52/000080.jpg</td>\n",
              "    </tr>\n",
              "    <tr>\n",
              "      <th>3</th>\n",
              "      <td>20</td>\n",
              "      <td>Cr1</td>\n",
              "      <td>9</td>\n",
              "      <td>4</td>\n",
              "      <td>[[193,329],[196,328],[198,327],[201,326],[203,...</td>\n",
              "      <td>/media/category_52/000081.jpg</td>\n",
              "    </tr>\n",
              "    <tr>\n",
              "      <th>4</th>\n",
              "      <td>21</td>\n",
              "      <td>Cr1</td>\n",
              "      <td>9</td>\n",
              "      <td>5</td>\n",
              "      <td>[[150,283],[152,282],[154,281],[154,280],[156,...</td>\n",
              "      <td>/media/category_52/000082.jpg</td>\n",
              "    </tr>\n",
              "  </tbody>\n",
              "</table>\n",
              "</div>\n",
              "      <button class=\"colab-df-convert\" onclick=\"convertToInteractive('df-3e7ae641-ee33-4bd4-95fc-1861770b7dd5')\"\n",
              "              title=\"Convert this dataframe to an interactive table.\"\n",
              "              style=\"display:none;\">\n",
              "        \n",
              "  <svg xmlns=\"http://www.w3.org/2000/svg\" height=\"24px\"viewBox=\"0 0 24 24\"\n",
              "       width=\"24px\">\n",
              "    <path d=\"M0 0h24v24H0V0z\" fill=\"none\"/>\n",
              "    <path d=\"M18.56 5.44l.94 2.06.94-2.06 2.06-.94-2.06-.94-.94-2.06-.94 2.06-2.06.94zm-11 1L8.5 8.5l.94-2.06 2.06-.94-2.06-.94L8.5 2.5l-.94 2.06-2.06.94zm10 10l.94 2.06.94-2.06 2.06-.94-2.06-.94-.94-2.06-.94 2.06-2.06.94z\"/><path d=\"M17.41 7.96l-1.37-1.37c-.4-.4-.92-.59-1.43-.59-.52 0-1.04.2-1.43.59L10.3 9.45l-7.72 7.72c-.78.78-.78 2.05 0 2.83L4 21.41c.39.39.9.59 1.41.59.51 0 1.02-.2 1.41-.59l7.78-7.78 2.81-2.81c.8-.78.8-2.07 0-2.86zM5.41 20L4 18.59l7.72-7.72 1.47 1.35L5.41 20z\"/>\n",
              "  </svg>\n",
              "      </button>\n",
              "      \n",
              "  <style>\n",
              "    .colab-df-container {\n",
              "      display:flex;\n",
              "      flex-wrap:wrap;\n",
              "      gap: 12px;\n",
              "    }\n",
              "\n",
              "    .colab-df-convert {\n",
              "      background-color: #E8F0FE;\n",
              "      border: none;\n",
              "      border-radius: 50%;\n",
              "      cursor: pointer;\n",
              "      display: none;\n",
              "      fill: #1967D2;\n",
              "      height: 32px;\n",
              "      padding: 0 0 0 0;\n",
              "      width: 32px;\n",
              "    }\n",
              "\n",
              "    .colab-df-convert:hover {\n",
              "      background-color: #E2EBFA;\n",
              "      box-shadow: 0px 1px 2px rgba(60, 64, 67, 0.3), 0px 1px 3px 1px rgba(60, 64, 67, 0.15);\n",
              "      fill: #174EA6;\n",
              "    }\n",
              "\n",
              "    [theme=dark] .colab-df-convert {\n",
              "      background-color: #3B4455;\n",
              "      fill: #D2E3FC;\n",
              "    }\n",
              "\n",
              "    [theme=dark] .colab-df-convert:hover {\n",
              "      background-color: #434B5C;\n",
              "      box-shadow: 0px 1px 3px 1px rgba(0, 0, 0, 0.15);\n",
              "      filter: drop-shadow(0px 1px 2px rgba(0, 0, 0, 0.3));\n",
              "      fill: #FFFFFF;\n",
              "    }\n",
              "  </style>\n",
              "\n",
              "      <script>\n",
              "        const buttonEl =\n",
              "          document.querySelector('#df-3e7ae641-ee33-4bd4-95fc-1861770b7dd5 button.colab-df-convert');\n",
              "        buttonEl.style.display =\n",
              "          google.colab.kernel.accessAllowed ? 'block' : 'none';\n",
              "\n",
              "        async function convertToInteractive(key) {\n",
              "          const element = document.querySelector('#df-3e7ae641-ee33-4bd4-95fc-1861770b7dd5');\n",
              "          const dataTable =\n",
              "            await google.colab.kernel.invokeFunction('convertToInteractive',\n",
              "                                                     [key], {});\n",
              "          if (!dataTable) return;\n",
              "\n",
              "          const docLinkHtml = 'Like what you see? Visit the ' +\n",
              "            '<a target=\"_blank\" href=https://colab.research.google.com/notebooks/data_table.ipynb>data table notebook</a>'\n",
              "            + ' to learn more about interactive tables.';\n",
              "          element.innerHTML = '';\n",
              "          dataTable['output_type'] = 'display_data';\n",
              "          await google.colab.output.renderOutput(dataTable, element);\n",
              "          const docLink = document.createElement('div');\n",
              "          docLink.innerHTML = docLinkHtml;\n",
              "          element.appendChild(docLink);\n",
              "        }\n",
              "      </script>\n",
              "    </div>\n",
              "  </div>\n",
              "  "
            ]
          },
          "metadata": {},
          "execution_count": 21
        }
      ],
      "source": [
        "df.head()"
      ]
    },
    {
      "cell_type": "code",
      "execution_count": null,
      "metadata": {
        "colab": {
          "base_uri": "https://localhost:8080/"
        },
        "id": "sQCXnFtwMVkf",
        "outputId": "610fc10e-d972-4223-9d3f-1bc66ea3cb4e"
      },
      "outputs": [
        {
          "output_type": "execute_result",
          "data": {
            "text/plain": [
              "array(['Cr1', 'Cr2', 'Cr3', 'Cr4', 'Cr5', 'Cr6', 'Cr7', 'Cr8', 'Cr9',\n",
              "       'Cr10', 'large cell carcinoma', 'adenocarcinoma',\n",
              "       'non-small-cell lung carcinoma', 'squamous cell carcinoma'],\n",
              "      dtype=object)"
            ]
          },
          "metadata": {},
          "execution_count": 22
        }
      ],
      "source": [
        "df['name'].unique()"
      ]
    },
    {
      "cell_type": "code",
      "execution_count": null,
      "metadata": {
        "id": "PGrLWRjjMXR2"
      },
      "outputs": [],
      "source": [
        "df = df.replace(to_replace =['Cr1', 'Cr2', 'Cr3', 'Cr4', 'Cr5', 'Cr6', 'Cr7', 'Cr8', 'Cr9',\n",
        "       'Cr10'], value ='adenocarcinoma')"
      ]
    },
    {
      "cell_type": "code",
      "execution_count": null,
      "metadata": {
        "id": "4G4LVoFOMY_a"
      },
      "outputs": [],
      "source": [
        "num = df['name'].unique()"
      ]
    },
    {
      "cell_type": "code",
      "execution_count": null,
      "metadata": {
        "colab": {
          "base_uri": "https://localhost:8080/",
          "height": 424
        },
        "id": "-Pe6WAbRMaW_",
        "outputId": "7ea8501f-cc5a-4b23-c2f9-9f101b4b9a5e"
      },
      "outputs": [
        {
          "output_type": "execute_result",
          "data": {
            "text/plain": [
              "      id            name  label attributes  \\\n",
              "0     16  adenocarcinoma      9          1   \n",
              "1     17  adenocarcinoma      9          2   \n",
              "2     18  adenocarcinoma      9          3   \n",
              "3     20  adenocarcinoma      9          4   \n",
              "4     21  adenocarcinoma      9          5   \n",
              "..   ...             ...    ...        ...   \n",
              "529  616  adenocarcinoma     20          1   \n",
              "530  617  adenocarcinoma     20          2   \n",
              "531  618  adenocarcinoma     20          3   \n",
              "532  619  adenocarcinoma     20          4   \n",
              "533  620  adenocarcinoma     20          5   \n",
              "\n",
              "                                                points  \\\n",
              "0    [[189,308],[188,306],[188,305],[187,303],[187,...   \n",
              "1    [[154,303],[154,301],[154,299],[154,297],[154,...   \n",
              "2    [[197,319],[194,320],[193,321],[193,323],[193,...   \n",
              "3    [[193,329],[196,328],[198,327],[201,326],[203,...   \n",
              "4    [[150,283],[152,282],[154,281],[154,280],[156,...   \n",
              "..                                                 ...   \n",
              "529  [[159,347],[163,345],[164,344],[165,343],[167,...   \n",
              "530  [[166,329],[171,325],[175,325],[175,324],[177,...   \n",
              "531  [[184,340],[184,336],[184,332],[185,330],[188,...   \n",
              "532  [[161,344],[165,342],[168,341],[168,340],[174,...   \n",
              "533  [[184,337],[187,332],[187,326],[186,325],[186,...   \n",
              "\n",
              "                              image  \n",
              "0     /media/category_52/000078.jpg  \n",
              "1     /media/category_52/000079.jpg  \n",
              "2     /media/category_52/000080.jpg  \n",
              "3     /media/category_52/000081.jpg  \n",
              "4     /media/category_52/000082.jpg  \n",
              "..                              ...  \n",
              "529  /media/category_153/000033.jpg  \n",
              "530  /media/category_153/000034.jpg  \n",
              "531  /media/category_153/000035.jpg  \n",
              "532  /media/category_153/000036.jpg  \n",
              "533  /media/category_153/000037.jpg  \n",
              "\n",
              "[534 rows x 6 columns]"
            ],
            "text/html": [
              "\n",
              "  <div id=\"df-b3e773aa-acb3-4efc-ad0b-5f06df4ecdf8\">\n",
              "    <div class=\"colab-df-container\">\n",
              "      <div>\n",
              "<style scoped>\n",
              "    .dataframe tbody tr th:only-of-type {\n",
              "        vertical-align: middle;\n",
              "    }\n",
              "\n",
              "    .dataframe tbody tr th {\n",
              "        vertical-align: top;\n",
              "    }\n",
              "\n",
              "    .dataframe thead th {\n",
              "        text-align: right;\n",
              "    }\n",
              "</style>\n",
              "<table border=\"1\" class=\"dataframe\">\n",
              "  <thead>\n",
              "    <tr style=\"text-align: right;\">\n",
              "      <th></th>\n",
              "      <th>id</th>\n",
              "      <th>name</th>\n",
              "      <th>label</th>\n",
              "      <th>attributes</th>\n",
              "      <th>points</th>\n",
              "      <th>image</th>\n",
              "    </tr>\n",
              "  </thead>\n",
              "  <tbody>\n",
              "    <tr>\n",
              "      <th>0</th>\n",
              "      <td>16</td>\n",
              "      <td>adenocarcinoma</td>\n",
              "      <td>9</td>\n",
              "      <td>1</td>\n",
              "      <td>[[189,308],[188,306],[188,305],[187,303],[187,...</td>\n",
              "      <td>/media/category_52/000078.jpg</td>\n",
              "    </tr>\n",
              "    <tr>\n",
              "      <th>1</th>\n",
              "      <td>17</td>\n",
              "      <td>adenocarcinoma</td>\n",
              "      <td>9</td>\n",
              "      <td>2</td>\n",
              "      <td>[[154,303],[154,301],[154,299],[154,297],[154,...</td>\n",
              "      <td>/media/category_52/000079.jpg</td>\n",
              "    </tr>\n",
              "    <tr>\n",
              "      <th>2</th>\n",
              "      <td>18</td>\n",
              "      <td>adenocarcinoma</td>\n",
              "      <td>9</td>\n",
              "      <td>3</td>\n",
              "      <td>[[197,319],[194,320],[193,321],[193,323],[193,...</td>\n",
              "      <td>/media/category_52/000080.jpg</td>\n",
              "    </tr>\n",
              "    <tr>\n",
              "      <th>3</th>\n",
              "      <td>20</td>\n",
              "      <td>adenocarcinoma</td>\n",
              "      <td>9</td>\n",
              "      <td>4</td>\n",
              "      <td>[[193,329],[196,328],[198,327],[201,326],[203,...</td>\n",
              "      <td>/media/category_52/000081.jpg</td>\n",
              "    </tr>\n",
              "    <tr>\n",
              "      <th>4</th>\n",
              "      <td>21</td>\n",
              "      <td>adenocarcinoma</td>\n",
              "      <td>9</td>\n",
              "      <td>5</td>\n",
              "      <td>[[150,283],[152,282],[154,281],[154,280],[156,...</td>\n",
              "      <td>/media/category_52/000082.jpg</td>\n",
              "    </tr>\n",
              "    <tr>\n",
              "      <th>...</th>\n",
              "      <td>...</td>\n",
              "      <td>...</td>\n",
              "      <td>...</td>\n",
              "      <td>...</td>\n",
              "      <td>...</td>\n",
              "      <td>...</td>\n",
              "    </tr>\n",
              "    <tr>\n",
              "      <th>529</th>\n",
              "      <td>616</td>\n",
              "      <td>adenocarcinoma</td>\n",
              "      <td>20</td>\n",
              "      <td>1</td>\n",
              "      <td>[[159,347],[163,345],[164,344],[165,343],[167,...</td>\n",
              "      <td>/media/category_153/000033.jpg</td>\n",
              "    </tr>\n",
              "    <tr>\n",
              "      <th>530</th>\n",
              "      <td>617</td>\n",
              "      <td>adenocarcinoma</td>\n",
              "      <td>20</td>\n",
              "      <td>2</td>\n",
              "      <td>[[166,329],[171,325],[175,325],[175,324],[177,...</td>\n",
              "      <td>/media/category_153/000034.jpg</td>\n",
              "    </tr>\n",
              "    <tr>\n",
              "      <th>531</th>\n",
              "      <td>618</td>\n",
              "      <td>adenocarcinoma</td>\n",
              "      <td>20</td>\n",
              "      <td>3</td>\n",
              "      <td>[[184,340],[184,336],[184,332],[185,330],[188,...</td>\n",
              "      <td>/media/category_153/000035.jpg</td>\n",
              "    </tr>\n",
              "    <tr>\n",
              "      <th>532</th>\n",
              "      <td>619</td>\n",
              "      <td>adenocarcinoma</td>\n",
              "      <td>20</td>\n",
              "      <td>4</td>\n",
              "      <td>[[161,344],[165,342],[168,341],[168,340],[174,...</td>\n",
              "      <td>/media/category_153/000036.jpg</td>\n",
              "    </tr>\n",
              "    <tr>\n",
              "      <th>533</th>\n",
              "      <td>620</td>\n",
              "      <td>adenocarcinoma</td>\n",
              "      <td>20</td>\n",
              "      <td>5</td>\n",
              "      <td>[[184,337],[187,332],[187,326],[186,325],[186,...</td>\n",
              "      <td>/media/category_153/000037.jpg</td>\n",
              "    </tr>\n",
              "  </tbody>\n",
              "</table>\n",
              "<p>534 rows × 6 columns</p>\n",
              "</div>\n",
              "      <button class=\"colab-df-convert\" onclick=\"convertToInteractive('df-b3e773aa-acb3-4efc-ad0b-5f06df4ecdf8')\"\n",
              "              title=\"Convert this dataframe to an interactive table.\"\n",
              "              style=\"display:none;\">\n",
              "        \n",
              "  <svg xmlns=\"http://www.w3.org/2000/svg\" height=\"24px\"viewBox=\"0 0 24 24\"\n",
              "       width=\"24px\">\n",
              "    <path d=\"M0 0h24v24H0V0z\" fill=\"none\"/>\n",
              "    <path d=\"M18.56 5.44l.94 2.06.94-2.06 2.06-.94-2.06-.94-.94-2.06-.94 2.06-2.06.94zm-11 1L8.5 8.5l.94-2.06 2.06-.94-2.06-.94L8.5 2.5l-.94 2.06-2.06.94zm10 10l.94 2.06.94-2.06 2.06-.94-2.06-.94-.94-2.06-.94 2.06-2.06.94z\"/><path d=\"M17.41 7.96l-1.37-1.37c-.4-.4-.92-.59-1.43-.59-.52 0-1.04.2-1.43.59L10.3 9.45l-7.72 7.72c-.78.78-.78 2.05 0 2.83L4 21.41c.39.39.9.59 1.41.59.51 0 1.02-.2 1.41-.59l7.78-7.78 2.81-2.81c.8-.78.8-2.07 0-2.86zM5.41 20L4 18.59l7.72-7.72 1.47 1.35L5.41 20z\"/>\n",
              "  </svg>\n",
              "      </button>\n",
              "      \n",
              "  <style>\n",
              "    .colab-df-container {\n",
              "      display:flex;\n",
              "      flex-wrap:wrap;\n",
              "      gap: 12px;\n",
              "    }\n",
              "\n",
              "    .colab-df-convert {\n",
              "      background-color: #E8F0FE;\n",
              "      border: none;\n",
              "      border-radius: 50%;\n",
              "      cursor: pointer;\n",
              "      display: none;\n",
              "      fill: #1967D2;\n",
              "      height: 32px;\n",
              "      padding: 0 0 0 0;\n",
              "      width: 32px;\n",
              "    }\n",
              "\n",
              "    .colab-df-convert:hover {\n",
              "      background-color: #E2EBFA;\n",
              "      box-shadow: 0px 1px 2px rgba(60, 64, 67, 0.3), 0px 1px 3px 1px rgba(60, 64, 67, 0.15);\n",
              "      fill: #174EA6;\n",
              "    }\n",
              "\n",
              "    [theme=dark] .colab-df-convert {\n",
              "      background-color: #3B4455;\n",
              "      fill: #D2E3FC;\n",
              "    }\n",
              "\n",
              "    [theme=dark] .colab-df-convert:hover {\n",
              "      background-color: #434B5C;\n",
              "      box-shadow: 0px 1px 3px 1px rgba(0, 0, 0, 0.15);\n",
              "      filter: drop-shadow(0px 1px 2px rgba(0, 0, 0, 0.3));\n",
              "      fill: #FFFFFF;\n",
              "    }\n",
              "  </style>\n",
              "\n",
              "      <script>\n",
              "        const buttonEl =\n",
              "          document.querySelector('#df-b3e773aa-acb3-4efc-ad0b-5f06df4ecdf8 button.colab-df-convert');\n",
              "        buttonEl.style.display =\n",
              "          google.colab.kernel.accessAllowed ? 'block' : 'none';\n",
              "\n",
              "        async function convertToInteractive(key) {\n",
              "          const element = document.querySelector('#df-b3e773aa-acb3-4efc-ad0b-5f06df4ecdf8');\n",
              "          const dataTable =\n",
              "            await google.colab.kernel.invokeFunction('convertToInteractive',\n",
              "                                                     [key], {});\n",
              "          if (!dataTable) return;\n",
              "\n",
              "          const docLinkHtml = 'Like what you see? Visit the ' +\n",
              "            '<a target=\"_blank\" href=https://colab.research.google.com/notebooks/data_table.ipynb>data table notebook</a>'\n",
              "            + ' to learn more about interactive tables.';\n",
              "          element.innerHTML = '';\n",
              "          dataTable['output_type'] = 'display_data';\n",
              "          await google.colab.output.renderOutput(dataTable, element);\n",
              "          const docLink = document.createElement('div');\n",
              "          docLink.innerHTML = docLinkHtml;\n",
              "          element.appendChild(docLink);\n",
              "        }\n",
              "      </script>\n",
              "    </div>\n",
              "  </div>\n",
              "  "
            ]
          },
          "metadata": {},
          "execution_count": 25
        }
      ],
      "source": [
        "df"
      ]
    },
    {
      "cell_type": "code",
      "execution_count": null,
      "metadata": {
        "colab": {
          "base_uri": "https://localhost:8080/"
        },
        "id": "vVGjF9LyMa9-",
        "outputId": "929efb5c-b7a0-42e7-c9a0-4aeee65d1468"
      },
      "outputs": [
        {
          "output_type": "stream",
          "name": "stderr",
          "text": [
            "/usr/local/lib/python3.7/dist-packages/ipykernel_launcher.py:5: SettingWithCopyWarning: \n",
            "A value is trying to be set on a copy of a slice from a DataFrame\n",
            "\n",
            "See the caveats in the documentation: https://pandas.pydata.org/pandas-docs/stable/user_guide/indexing.html#returning-a-view-versus-a-copy\n",
            "  \"\"\"\n"
          ]
        }
      ],
      "source": [
        "df1 = df\n",
        "for i in range(len(df['name'])):\n",
        "    for j in range(len(num)):\n",
        "        if df['name'][i] == num[j]:\n",
        "            df1['name'][i] = j"
      ]
    },
    {
      "cell_type": "code",
      "execution_count": null,
      "metadata": {
        "id": "T0Z1AS2pMc8N"
      },
      "outputs": [],
      "source": [
        "#change string to np array\n",
        "df['points'] = df['points'].apply(lambda x: np.array(eval(x)), 0)"
      ]
    },
    {
      "cell_type": "code",
      "execution_count": null,
      "metadata": {
        "id": "clv0ycrHMepZ"
      },
      "outputs": [],
      "source": [
        "dfnew = []"
      ]
    },
    {
      "cell_type": "code",
      "execution_count": null,
      "metadata": {
        "colab": {
          "base_uri": "https://localhost:8080/",
          "height": 286
        },
        "id": "ENX3sLXMMf34",
        "outputId": "dae6dd26-cf6d-4ef0-8ea8-ec169b62d688"
      },
      "outputs": [
        {
          "output_type": "execute_result",
          "data": {
            "text/plain": [
              "<matplotlib.image.AxesImage at 0x7f3479fe1710>"
            ]
          },
          "metadata": {},
          "execution_count": 29
        },
        {
          "output_type": "display_data",
          "data": {
            "text/plain": [
              "<Figure size 432x288 with 1 Axes>"
            ],
            "image/png": "[encoded data removed]"
          },
          "metadata": {
            "needs_background": "light"
          }
        }
      ],
      "source": [
        "origImage = cv2.imread(path  + df['image'][0])\n",
        "origImage = cv2.cvtColor(origImage, cv2.COLOR_BGR2GRAY, )\n",
        "plt.imshow(origImage,cmap = \"gray\")"
      ]
    },
    {
      "cell_type": "code",
      "execution_count": null,
      "metadata": {
        "colab": {
          "base_uri": "https://localhost:8080/"
        },
        "id": "-WYNMMDqMhLW",
        "outputId": "718e65aa-8869-4742-e53c-af6030016b2f"
      },
      "outputs": [
        {
          "output_type": "stream",
          "name": "stderr",
          "text": [
            "100%|██████████| 534/534 [00:28<00:00, 18.64it/s]\n"
          ]
        }
      ],
      "source": [
        "from tqdm import tqdm\n",
        "from matplotlib.path import Path\n",
        "ar = []\n",
        "for ind in tqdm(range(len(df['image']))):\n",
        "    tupVerts= df['points'][ind]\n",
        "\n",
        "\n",
        "    x, y = np.meshgrid(np.arange(origImage.shape[0]), np.arange(origImage.shape[1])) # make a canvas with coordinates\n",
        "    x, y = x.flatten(), y.flatten()\n",
        "    points = np.vstack((x,y)).T \n",
        "\n",
        "    p = Path(tupVerts) # make a polygon\n",
        "    grid = p.contains_points(points)\n",
        "    mask = (grid.reshape(origImage.shape[0],origImage.shape[0])*1).astype('float32') # now you have a mask with points inside a polygon\n",
        "    mask = cv2.resize(mask, (128,128))\n",
        "    #mask = grid.reshape(origImage.shape[0],origImage.shape[0])*1\n",
        "    #mask = grid.reshape([128,128])*1 \n",
        "    #mask = cv2.resize(mask, (128, 128))\n",
        "    ar.append(mask)\n",
        "df['mask'] = ar"
      ]
    },
    {
      "cell_type": "code",
      "execution_count": null,
      "metadata": {
        "colab": {
          "base_uri": "https://localhost:8080/"
        },
        "id": "zZtiLgKlqPv2",
        "outputId": "78ca16f5-06fe-44f8-bcd1-390dd6590583"
      },
      "outputs": [
        {
          "output_type": "execute_result",
          "data": {
            "text/plain": [
              "(128, 128)"
            ]
          },
          "metadata": {},
          "execution_count": 31
        }
      ],
      "source": [
        "mask.shape"
      ]
    },
    {
      "cell_type": "code",
      "execution_count": null,
      "metadata": {
        "colab": {
          "base_uri": "https://localhost:8080/"
        },
        "id": "mPPVxyEnp916",
        "outputId": "c123666f-4dea-42f6-8ea6-cdc0e1141c20"
      },
      "outputs": [
        {
          "output_type": "execute_result",
          "data": {
            "text/plain": [
              "512"
            ]
          },
          "metadata": {},
          "execution_count": 32
        }
      ],
      "source": [
        "origImage.shape[0]"
      ]
    },
    {
      "cell_type": "code",
      "execution_count": null,
      "metadata": {
        "colab": {
          "base_uri": "https://localhost:8080/",
          "height": 285
        },
        "id": "TtjtJUuNmNMG",
        "outputId": "2ba22f7a-062f-46d1-97e5-7cd45bdfcfbd"
      },
      "outputs": [
        {
          "output_type": "execute_result",
          "data": {
            "text/plain": [
              "<matplotlib.image.AxesImage at 0x7f3478a7bd10>"
            ]
          },
          "metadata": {},
          "execution_count": 33
        },
        {
          "output_type": "display_data",
          "data": {
            "text/plain": [
              "<Figure size 432x288 with 1 Axes>"
            ],
            "image/png": "[encoded data removed]"
          },
          "metadata": {
            "needs_background": "light"
          }
        }
      ],
      "source": [
        "plt.imshow((mask),cmap = \"gray\")"
      ]
    },
    {
      "cell_type": "code",
      "execution_count": null,
      "metadata": {
        "colab": {
          "base_uri": "https://localhost:8080/"
        },
        "id": "p1HeU2ouMkC8",
        "outputId": "d96f0ae7-2c57-4da9-916f-b1e8d76c5208"
      },
      "outputs": [
        {
          "output_type": "stream",
          "name": "stderr",
          "text": [
            "100%|██████████| 534/534 [08:56<00:00,  1.00s/it]\n"
          ]
        }
      ],
      "source": [
        "ar = []\n",
        "for ind in tqdm(range(len(df['image']))):\n",
        "    origImage = cv2.imread(path  + df['image'][ind])\n",
        "    origImage = cv2.resize(origImage, (128, 128))\n",
        "    origImage = cv2.cvtColor(origImage, cv2.COLOR_BGR2GRAY, )\n",
        "    ar.append(origImage)\n",
        "df['img'] = ar"
      ]
    },
    {
      "cell_type": "code",
      "execution_count": null,
      "metadata": {
        "colab": {
          "base_uri": "https://localhost:8080/"
        },
        "id": "JeCF-CvFzZzK",
        "outputId": "7b03b3de-e80c-4cca-a731-f780e5cc56ff"
      },
      "outputs": [
        {
          "output_type": "execute_result",
          "data": {
            "text/plain": [
              "(128, 128)"
            ]
          },
          "metadata": {},
          "execution_count": 35
        }
      ],
      "source": [
        "origImage.shape"
      ]
    },
    {
      "cell_type": "code",
      "execution_count": null,
      "metadata": {
        "colab": {
          "base_uri": "https://localhost:8080/"
        },
        "id": "9wJlU6rRMmPM",
        "outputId": "33ae6a43-e51a-4624-e966-c0219b6c97c1"
      },
      "outputs": [
        {
          "output_type": "stream",
          "name": "stderr",
          "text": [
            "100%|██████████| 534/534 [00:00<00:00, 46494.06it/s]\n"
          ]
        }
      ],
      "source": [
        "x = []\n",
        "y = []\n",
        "z = []\n",
        "for ind in tqdm(range(len(df))):\n",
        "    x.append(df['img'][ind])\n",
        "    y.append(df['mask'][ind])\n",
        "    z.append(df['name'][ind])"
      ]
    },
    {
      "cell_type": "code",
      "execution_count": null,
      "metadata": {
        "id": "kJs3r_VgMosB"
      },
      "outputs": [],
      "source": [
        "from sklearn.model_selection import train_test_split\n",
        "X_train, X_test, y_train, y_test, z_train, z_test = train_test_split(x, y, z, test_size=0.2, random_state=10)"
      ]
    },
    {
      "cell_type": "code",
      "execution_count": null,
      "metadata": {
        "colab": {
          "base_uri": "https://localhost:8080/"
        },
        "id": "5FNrAulGNoGZ",
        "outputId": "59d3167b-758e-497b-e024-ced46c3fa6d4"
      },
      "outputs": [
        {
          "output_type": "stream",
          "name": "stderr",
          "text": [
            "/usr/local/lib/python3.7/dist-packages/ipykernel_launcher.py:13: UserWarning: Creating a tensor from a list of numpy.ndarrays is extremely slow. Please consider converting the list to a single numpy.ndarray with numpy.array() before converting to a tensor. (Triggered internally at  ../torch/csrc/utils/tensor_new.cpp:201.)\n",
            "  del sys.path[0]\n"
          ]
        }
      ],
      "source": [
        "import torch\n",
        "import torchvision\n",
        "from torchvision import transforms\n",
        "from torchsummary import summary\n",
        "from torch.utils.data import DataLoader,Dataset\n",
        "from PIL import Image\n",
        "\n",
        "import numpy as np\n",
        "import matplotlib.pyplot as plt  # для отрисовки картиночек\n",
        "class MyDataset(Dataset):\n",
        "    def __init__(self, data, targets, label, transform=None):\n",
        "        self.data = data\n",
        "        self.targets = torch.LongTensor(targets)\n",
        "        self.label = label\n",
        "        self.transform = transform\n",
        "\n",
        "    def __getitem__(self, index):\n",
        "        x = self.data[index]\n",
        "        y = self.targets[index]\n",
        "        z = self.label[index]\n",
        "        if self.transform:\n",
        "            x = Image.fromarray(self.data[index].astype(np.uint8))\n",
        "            x = self.transform(x)\n",
        "\n",
        "        return x, y, z\n",
        "\n",
        "    def __len__(self):\n",
        "        return len(self.data)\n",
        "%matplotlib inline\n",
        "transform = transforms.Compose([transforms.ToTensor()])\n",
        "dataset = MyDataset(X_train,y_train, z_train, transform=transform)\n",
        "trainloader = DataLoader(dataset, batch_size=4)\n",
        "\n",
        "testset = MyDataset(X_test,y_test, z_test, transform=transform)\n",
        "testloader = DataLoader(testset, batch_size=4)"
      ]
    },
    {
      "cell_type": "code",
      "execution_count": null,
      "metadata": {
        "colab": {
          "base_uri": "https://localhost:8080/"
        },
        "id": "T2XwQyYlNqOx",
        "outputId": "220a675a-d3d6-4c0a-ca5f-724a46dcaefc"
      },
      "outputs": [
        {
          "output_type": "stream",
          "name": "stderr",
          "text": [
            "100%|██████████| 107/107 [00:00<00:00, 1071.73it/s]\n"
          ]
        },
        {
          "output_type": "execute_result",
          "data": {
            "text/plain": [
              "(106, 0)"
            ]
          },
          "metadata": {},
          "execution_count": 39
        }
      ],
      "source": [
        "cnt = 0\n",
        "temp = 0\n",
        "for i, batch in enumerate(tqdm(trainloader)):\n",
        "        X_batch, y_batch, z_batch = batch\n",
        "        cnt = i\n",
        "        if i % 2000 == 1999:\n",
        "            temp += 1 \n",
        "cnt,temp"
      ]
    },
    {
      "cell_type": "code",
      "execution_count": null,
      "metadata": {
        "id": "-TZCf_f_Ovl3"
      },
      "outputs": [],
      "source": [
        "device = torch.device('cuda' if torch.cuda.is_available() else 'cpu')"
      ]
    },
    {
      "cell_type": "code",
      "execution_count": null,
      "metadata": {
        "id": "Cd4BGyUiWhe-"
      },
      "outputs": [],
      "source": [
        "def dice_loss(pred, target):\n",
        "    pred = torch.sigmoid(pred)\n",
        "\n",
        "    pred = pred.contiguous().view(-1)\n",
        "    target = target.contiguous().view(-1)\n",
        "\n",
        "    intersection = torch.sum(pred * target)\n",
        "    pred_sum = torch.sum(pred * pred)\n",
        "    target_sum = torch.sum(target * target)\n",
        "\n",
        "    return 1 - ((2. * intersection + 1e-5) / (pred_sum + target_sum + 1e-5))"
      ]
    },
    {
      "cell_type": "code",
      "execution_count": null,
      "metadata": {
        "colab": {
          "base_uri": "https://localhost:8080/"
        },
        "id": "GRHo27bLW4Pb",
        "outputId": "18cfc00a-9cb8-4923-f0ec-884e63009865"
      },
      "outputs": [
        {
          "output_type": "stream",
          "name": "stdout",
          "text": [
            "Looking in indexes: https://pypi.org/simple, https://us-python.pkg.dev/colab-wheels/public/simple/\n",
            "Requirement already satisfied: easydict in /usr/local/lib/python3.7/dist-packages (1.10)\n"
          ]
        }
      ],
      "source": [
        "!pip install easydict"
      ]
    },
    {
      "cell_type": "code",
      "execution_count": null,
      "metadata": {
        "id": "mKNH9dxRO-bF"
      },
      "outputs": [],
      "source": [
        "import torch.nn as nn\n",
        "import torch.optim as optim\n",
        "from torch.optim.lr_scheduler import StepLR\n",
        "from torch.optim import SGD\n",
        "# loss function\n",
        "#criterion = nn.CrossEntropyLoss()\n",
        "criterion = dice_loss\n",
        "optimizer = SGD(transunet.parameters(), lr=1e-1,\n",
        "                    momentum=0.9, weight_decay=1e-4)\n",
        "# optimizer\n",
        "#optimizer = optim.Adam(transunet.parameters(), lr=0.01)"
      ]
    },
    {
      "cell_type": "code",
      "execution_count": null,
      "metadata": {
        "colab": {
          "base_uri": "https://localhost:8080/"
        },
        "id": "VU3tq436NtVR",
        "outputId": "9ddc43d9-8cfb-4f2c-8faf-e6800a5a51a2"
      },
      "outputs": [
        {
          "output_type": "stream",
          "name": "stdout",
          "text": [
            "0   0.9837183952331543\n",
            "1   0.7213104963302612\n",
            "2   0.6404238939285278\n",
            "3   0.6902601718902588\n",
            "4   0.6527306437492371\n",
            "5   0.67113196849823\n",
            "6   0.6901916265487671\n",
            "7   0.7355104684829712\n",
            "8   0.6020902395248413\n",
            "9   0.6109170913696289\n",
            "10   0.6226093769073486\n",
            "11   0.513863205909729\n",
            "12   0.5571844577789307\n",
            "13   0.47299158573150635\n",
            "14   0.414201021194458\n",
            "15   0.5271323919296265\n",
            "16   0.5063531994819641\n",
            "17   0.4450368285179138\n",
            "18   0.4855567216873169\n",
            "19   0.3770337700843811\n",
            "20   0.4699559807777405\n",
            "21   0.43208515644073486\n",
            "22   0.3086833357810974\n",
            "23   0.36097609996795654\n",
            "24   0.34960854053497314\n",
            "25   0.3064148426055908\n",
            "26   0.2940865159034729\n",
            "27   0.3085557222366333\n",
            "28   0.553036093711853\n",
            "29   0.2750530242919922\n",
            "30   0.39344358444213867\n",
            "31   0.3060908317565918\n",
            "32   0.29437100887298584\n",
            "33   0.31148064136505127\n",
            "34   0.2830502390861511\n",
            "35   0.2699914574623108\n",
            "36   0.3117321729660034\n",
            "37   0.31316882371902466\n",
            "38   0.2527438998222351\n",
            "39   0.28287333250045776\n",
            "40   0.268560528755188\n",
            "41   0.2683144807815552\n",
            "42   0.2975831627845764\n",
            "43   0.28662198781967163\n",
            "44   0.2740398049354553\n",
            "45   0.27053725719451904\n",
            "46   0.2499387264251709\n",
            "47   0.2762542963027954\n",
            "48   0.32262492179870605\n",
            "49   0.25788217782974243\n",
            "50   0.24992233514785767\n",
            "51   0.2578587532043457\n",
            "52   0.1351456642150879\n",
            "53   0.21207553148269653\n",
            "54   0.24939048290252686\n",
            "55   0.269070565700531\n",
            "56   0.24916952848434448\n",
            "57   0.20157849788665771\n",
            "58   0.3117070198059082\n",
            "59   0.26061904430389404\n",
            "60   0.27191781997680664\n",
            "61   0.185829758644104\n",
            "62   0.17751067876815796\n",
            "63   0.17534726858139038\n",
            "64   0.1960451602935791\n",
            "65   0.14779460430145264\n",
            "66   0.21522021293640137\n",
            "67   0.14883166551589966\n",
            "68   0.20757651329040527\n",
            "69   0.15971946716308594\n",
            "70   0.13785654306411743\n",
            "71   0.14111965894699097\n",
            "72   0.19231808185577393\n",
            "73   0.1948702335357666\n",
            "74   0.19909363985061646\n",
            "75   0.11057013273239136\n",
            "76   0.12356317043304443\n",
            "77   0.19480472803115845\n",
            "78   0.15468883514404297\n",
            "79   0.11469012498855591\n",
            "80   0.10216718912124634\n",
            "81   0.13344484567642212\n",
            "82   0.11503058671951294\n",
            "83   0.09451347589492798\n",
            "84   0.1272895336151123\n",
            "85   0.11444681882858276\n",
            "86   0.17845433950424194\n",
            "87   0.1348981261253357\n",
            "88   0.14042925834655762\n",
            "89   0.22529947757720947\n",
            "90   0.15838325023651123\n",
            "91   0.12579065561294556\n",
            "92   0.12103736400604248\n",
            "93   0.10143637657165527\n",
            "94   0.2326204776763916\n",
            "95   0.1485154628753662\n",
            "96   0.14253097772598267\n",
            "97   0.1818629503250122\n",
            "98   0.1566096544265747\n",
            "99   0.17026245594024658\n"
          ]
        }
      ],
      "source": [
        "error = []\n",
        "test_error = []\n",
        "for epoch in range(100):        \n",
        "        for ind, batch in enumerate(trainloader):\n",
        "          imgs, true_masks, label= batch\n",
        "          images = imgs\n",
        "          images = images.to(device=device, dtype=torch.float32)\n",
        "          #print(images.shape)\n",
        "          label = label.to(device = device, dtype = torch.long)\n",
        "          true_masks = true_masks.to(device=device, dtype=torch.float32)\n",
        "          output = transunet(images)\n",
        "          #print(output)\n",
        "          output = torch.squeeze(output,1)\n",
        "          #print(output)\n",
        "          output = output.to(device=device, dtype=torch.float32)\n",
        "          loss = criterion(output.squeeze(0), true_masks.squeeze(0))\n",
        "          #if (epoch%10 == 0):\n",
        "          #print(ind)\n",
        "          if(ind ==0): \n",
        "              error.append(loss.item())   \n",
        "              print(epoch, ' ',loss.item())\n",
        "\n",
        "          optimizer.zero_grad()\n",
        "          loss.backward() \n",
        "          optimizer.step()\n",
        "            \n",
        "          "
      ]
    },
    {
      "cell_type": "code",
      "execution_count": null,
      "metadata": {
        "id": "ACWO3VLXLKen",
        "colab": {
          "base_uri": "https://localhost:8080/",
          "height": 428
        },
        "outputId": "e384009d-8ef8-4c86-ba5f-4787b75c4393"
      },
      "outputs": [
        {
          "output_type": "display_data",
          "data": {
            "text/plain": [
              "<Figure size 720x504 with 1 Axes>"
            ],
            "image/png": "[encoded data removed]"
          },
          "metadata": {
            "needs_background": "light"
          }
        }
      ],
      "source": [
        "plt.figure(figsize=(10,7))\n",
        "plt.plot(np.arange(len(error)), error)\n",
        "plt.plot(np.arange(len(test_error)), test_error)\n",
        "plt.show()"
      ]
    },
    {
      "cell_type": "code",
      "execution_count": null,
      "metadata": {
        "id": "NMYPufk7OX_-",
        "colab": {
          "base_uri": "https://localhost:8080/"
        },
        "outputId": "449ac6c5-deb0-4096-b32e-e294c46f39e8"
      },
      "outputs": [
        {
          "output_type": "stream",
          "name": "stderr",
          "text": [
            "100%|██████████| 27/27 [00:00<00:00, 41.74it/s]\n"
          ]
        }
      ],
      "source": [
        "predicted = []\n",
        "with torch.no_grad():\n",
        "    for data in tqdm(testloader):\n",
        "        img_np, mask, label = data\n",
        "        img = img_np.to(device=device, dtype=torch.float32)\n",
        "        output = transunet(img)\n",
        "        output = torch.sigmoid(torch.squeeze(output,1))\n",
        "        full_mask = output.cpu().numpy()\n",
        "        predicted.append([img_np, (full_mask >0.5)*1, mask, label])"
      ]
    },
    {
      "cell_type": "code",
      "execution_count": null,
      "metadata": {
        "id": "fFYpdKiXO27k",
        "colab": {
          "base_uri": "https://localhost:8080/"
        },
        "outputId": "6b939eb7-9e84-4195-a253-4d94efe8d099"
      },
      "outputs": [
        {
          "output_type": "stream",
          "name": "stderr",
          "text": [
            "/usr/local/lib/python3.7/dist-packages/ipykernel_launcher.py:1: FutureWarning: The input object of type 'Tensor' is an array-like implementing one of the corresponding protocols (`__array__`, `__array_interface__` or `__array_struct__`); but not a sequence (or 0-D). In the future, this object will be coerced as if it was first converted using `np.array(obj)`. To retain the old behaviour, you have to either modify the type 'Tensor', or assign to an empty array created with `np.empty(correct_shape, dtype=object)`.\n",
            "  \"\"\"Entry point for launching an IPython kernel.\n",
            "/usr/local/lib/python3.7/dist-packages/ipykernel_launcher.py:1: VisibleDeprecationWarning: Creating an ndarray from ragged nested sequences (which is a list-or-tuple of lists-or-tuples-or ndarrays with different lengths or shapes) is deprecated. If you meant to do this, you must specify 'dtype=object' when creating the ndarray.\n",
            "  \"\"\"Entry point for launching an IPython kernel.\n"
          ]
        },
        {
          "output_type": "execute_result",
          "data": {
            "text/plain": [
              "(27, 4)"
            ]
          },
          "metadata": {},
          "execution_count": 47
        }
      ],
      "source": [
        "np.array(predicted).shape"
      ]
    },
    {
      "cell_type": "code",
      "execution_count": null,
      "metadata": {
        "id": "kKYfDsI6kmhr",
        "colab": {
          "base_uri": "https://localhost:8080/",
          "height": 285
        },
        "outputId": "72bdbd69-8754-4582-c849-37708f3a1cf9"
      },
      "outputs": [
        {
          "output_type": "execute_result",
          "data": {
            "text/plain": [
              "<matplotlib.image.AxesImage at 0x7f346a3e6b90>"
            ]
          },
          "metadata": {},
          "execution_count": 48
        },
        {
          "output_type": "display_data",
          "data": {
            "text/plain": [
              "<Figure size 432x288 with 1 Axes>"
            ],
            "image/png": "[encoded data removed]"
          },
          "metadata": {
            "needs_background": "light"
          }
        }
      ],
      "source": [
        "plt.imshow(predicted[10][0][0][0].numpy(),cmap = \"gray\")"
      ]
    },
    {
      "cell_type": "code",
      "execution_count": null,
      "metadata": {
        "id": "9RKn2-khkpT-",
        "colab": {
          "base_uri": "https://localhost:8080/",
          "height": 285
        },
        "outputId": "5b99ea75-31cd-49b8-e668-d62ca2a766d1"
      },
      "outputs": [
        {
          "output_type": "execute_result",
          "data": {
            "text/plain": [
              "<matplotlib.image.AxesImage at 0x7f346a3591d0>"
            ]
          },
          "metadata": {},
          "execution_count": 49
        },
        {
          "output_type": "display_data",
          "data": {
            "text/plain": [
              "<Figure size 432x288 with 1 Axes>"
            ],
            "image/png": "[encoded data removed]"
          },
          "metadata": {
            "needs_background": "light"
          }
        }
      ],
      "source": [
        "plt.imshow((predicted[10][1][0]*1),cmap = \"gray\")"
      ]
    },
    {
      "cell_type": "code",
      "execution_count": null,
      "metadata": {
        "id": "TomGbU62kxXy",
        "colab": {
          "base_uri": "https://localhost:8080/",
          "height": 285
        },
        "outputId": "f7f2483e-f953-41d2-b001-3293863a4954"
      },
      "outputs": [
        {
          "output_type": "execute_result",
          "data": {
            "text/plain": [
              "<matplotlib.image.AxesImage at 0x7f346a46e950>"
            ]
          },
          "metadata": {},
          "execution_count": 50
        },
        {
          "output_type": "display_data",
          "data": {
            "text/plain": [
              "<Figure size 432x288 with 1 Axes>"
            ],
            "image/png": "[encoded data removed]"
          },
          "metadata": {
            "needs_background": "light"
          }
        }
      ],
      "source": [
        "plt.imshow((predicted[10][2][0]),cmap = \"gray\")"
      ]
    },
    {
      "cell_type": "code",
      "execution_count": null,
      "metadata": {
        "id": "P-WI76NSlDBq",
        "colab": {
          "base_uri": "https://localhost:8080/",
          "height": 285
        },
        "outputId": "9540f6d7-5579-4f98-e585-7ec14db90c61"
      },
      "outputs": [
        {
          "output_type": "execute_result",
          "data": {
            "text/plain": [
              "<matplotlib.image.AxesImage at 0x7f346a2b2e90>"
            ]
          },
          "metadata": {},
          "execution_count": 51
        },
        {
          "output_type": "display_data",
          "data": {
            "text/plain": [
              "<Figure size 432x288 with 1 Axes>"
            ],
            "image/png": "[encoded data removed]"
          },
          "metadata": {
            "needs_background": "light"
          }
        }
      ],
      "source": [
        "plt.imshow(predicted[1][0][0][0].numpy(),cmap = \"gray\")"
      ]
    },
    {
      "cell_type": "code",
      "execution_count": null,
      "metadata": {
        "id": "SXSK18xe3fH0",
        "colab": {
          "base_uri": "https://localhost:8080/",
          "height": 285
        },
        "outputId": "3486ca5f-233f-433e-d3c9-aed9d04152fe"
      },
      "outputs": [
        {
          "output_type": "execute_result",
          "data": {
            "text/plain": [
              "<matplotlib.image.AxesImage at 0x7f346a22c410>"
            ]
          },
          "metadata": {},
          "execution_count": 52
        },
        {
          "output_type": "display_data",
          "data": {
            "text/plain": [
              "<Figure size 432x288 with 1 Axes>"
            ],
            "image/png": "[encoded data removed]"
          },
          "metadata": {
            "needs_background": "light"
          }
        }
      ],
      "source": [
        "plt.imshow((predicted[1][1][0]*1),cmap = \"gray\")"
      ]
    },
    {
      "cell_type": "code",
      "execution_count": null,
      "metadata": {
        "id": "brmGYDcv3h1v",
        "colab": {
          "base_uri": "https://localhost:8080/",
          "height": 285
        },
        "outputId": "35a2dde7-f9d8-45eb-834a-5dadcd253480"
      },
      "outputs": [
        {
          "output_type": "execute_result",
          "data": {
            "text/plain": [
              "<matplotlib.image.AxesImage at 0x7f346a1a1cd0>"
            ]
          },
          "metadata": {},
          "execution_count": 53
        },
        {
          "output_type": "display_data",
          "data": {
            "text/plain": [
              "<Figure size 432x288 with 1 Axes>"
            ],
            "image/png": "[encoded data removed]"
          },
          "metadata": {
            "needs_background": "light"
          }
        }
      ],
      "source": [
        "plt.imshow((predicted[1][2][0]),cmap = \"gray\")"
      ]
    },
    {
      "cell_type": "code",
      "execution_count": null,
      "metadata": {
        "id": "org_vHWo3lhP"
      },
      "outputs": [],
      "source": [
        "def dice_coeff(pred, target):\n",
        "    m1 = np.array(pred).flatten()\n",
        "    m2 = np.array(target).flatten()\n",
        "    #smooth = 1.\n",
        "    #num = pred.size(0)\n",
        "    #m1 = pred.view(num, -1).float()  # Flatten\n",
        "    #m2 = target.view(num, -1).float()  # Flatten\n",
        "    intersection = np.sum(m1 * m2)\n",
        "\n",
        "    return (2. * intersection ) / (m1.sum() + m2.sum() )"
      ]
    },
    {
      "cell_type": "code",
      "source": [
        "predicted[i][2][0]"
      ],
      "metadata": {
        "colab": {
          "base_uri": "https://localhost:8080/",
          "height": 166
        },
        "id": "HjAQ_74vHKIA",
        "outputId": "5a98acb0-c8cd-4024-bdc1-0b358821e1e0"
      },
      "execution_count": null,
      "outputs": [
        {
          "output_type": "error",
          "ename": "IndexError",
          "evalue": "ignored",
          "traceback": [
            "\u001b[0;31m---------------------------------------------------------------------------\u001b[0m",
            "\u001b[0;31mIndexError\u001b[0m                                Traceback (most recent call last)",
            "\u001b[0;32m<ipython-input-55-e9c5acded598>\u001b[0m in \u001b[0;36m<module>\u001b[0;34m\u001b[0m\n\u001b[0;32m----> 1\u001b[0;31m \u001b[0mpredicted\u001b[0m\u001b[0;34m[\u001b[0m\u001b[0mi\u001b[0m\u001b[0;34m]\u001b[0m\u001b[0;34m[\u001b[0m\u001b[0;36m2\u001b[0m\u001b[0;34m]\u001b[0m\u001b[0;34m[\u001b[0m\u001b[0;36m0\u001b[0m\u001b[0;34m]\u001b[0m\u001b[0;34m\u001b[0m\u001b[0;34m\u001b[0m\u001b[0m\n\u001b[0m",
            "\u001b[0;31mIndexError\u001b[0m: list index out of range"
          ]
        }
      ]
    },
    {
      "cell_type": "code",
      "execution_count": null,
      "metadata": {
        "id": "TUhpRqL24t89"
      },
      "outputs": [],
      "source": [
        "dices = []\n",
        "for i in range(len(predicted)):\n",
        "  dices.append(dice_coeff(predicted[i][1][0]*1, predicted[i][2][0]))"
      ]
    },
    {
      "cell_type": "code",
      "execution_count": null,
      "metadata": {
        "id": "4T3uOHH24yBP",
        "colab": {
          "base_uri": "https://localhost:8080/"
        },
        "outputId": "61801523-3dcc-4c19-e623-cbe34f2f0e60"
      },
      "outputs": [
        {
          "output_type": "execute_result",
          "data": {
            "text/plain": [
              "0.5072689811914932"
            ]
          },
          "metadata": {},
          "execution_count": 57
        }
      ],
      "source": [
        "np.mean(dices)"
      ]
    },
    {
      "cell_type": "code",
      "source": [
        "dice_coeff(predicted[10][1][0]*1, predicted[10][2][0])"
      ],
      "metadata": {
        "colab": {
          "base_uri": "https://localhost:8080/"
        },
        "id": "0aB4HTSnNzop",
        "outputId": "632868a9-327c-45c2-e67c-92f65a88b784"
      },
      "execution_count": null,
      "outputs": [
        {
          "output_type": "execute_result",
          "data": {
            "text/plain": [
              "0.4082965731783615"
            ]
          },
          "metadata": {},
          "execution_count": 58
        }
      ]
    },
    {
      "cell_type": "code",
      "source": [
        "dice_coeff(predicted[1][1][0]*1, predicted[1][2][0])"
      ],
      "metadata": {
        "colab": {
          "base_uri": "https://localhost:8080/"
        },
        "id": "m6dSU2Nh2BGB",
        "outputId": "0fcdd4af-2e66-4bc2-9558-08de752c799f"
      },
      "execution_count": null,
      "outputs": [
        {
          "output_type": "execute_result",
          "data": {
            "text/plain": [
              "0.32305219711003086"
            ]
          },
          "metadata": {},
          "execution_count": 59
        }
      ]
    },
    {
      "cell_type": "code",
      "source": [
        "for i in range(10):\n",
        "    predicted = []\n",
        "    with torch.no_grad():\n",
        "        for data in tqdm(testloader):\n",
        "            img_np, mask, label = data\n",
        "            img = img_np.to(device=device, dtype=torch.float32)\n",
        "            output = transunet(img)\n",
        "            output = torch.sigmoid(torch.squeeze(output,1))\n",
        "            full_mask = output.cpu().numpy()\n",
        "            predicted.append([img_np, (full_mask >i/10)*1, mask, label])\n",
        "    dices = []\n",
        "    for j in range(len(predicted)):\n",
        "        dices.append(dice_coeff(predicted[j][1][0]*1, predicted[j][2][0]))\n",
        "    print(i/10, ' ', np.mean(dices))\n",
        "    "
      ],
      "metadata": {
        "id": "MdRAtXpbP2zm",
        "colab": {
          "base_uri": "https://localhost:8080/"
        },
        "outputId": "420f9398-953b-4245-950b-6491f4755ffc"
      },
      "execution_count": null,
      "outputs": [
        {
          "output_type": "stream",
          "name": "stderr",
          "text": [
            "100%|██████████| 27/27 [00:00<00:00, 37.61it/s]\n"
          ]
        },
        {
          "output_type": "stream",
          "name": "stdout",
          "text": [
            "0.0   0.008427143610090386\n"
          ]
        },
        {
          "output_type": "stream",
          "name": "stderr",
          "text": [
            "100%|██████████| 27/27 [00:00<00:00, 41.33it/s]\n"
          ]
        },
        {
          "output_type": "stream",
          "name": "stdout",
          "text": [
            "0.1   0.5969756386288284\n"
          ]
        },
        {
          "output_type": "stream",
          "name": "stderr",
          "text": [
            "100%|██████████| 27/27 [00:00<00:00, 41.56it/s]\n"
          ]
        },
        {
          "output_type": "stream",
          "name": "stdout",
          "text": [
            "0.2   0.6168603174912894\n"
          ]
        },
        {
          "output_type": "stream",
          "name": "stderr",
          "text": [
            "100%|██████████| 27/27 [00:00<00:00, 40.89it/s]\n"
          ]
        },
        {
          "output_type": "stream",
          "name": "stdout",
          "text": [
            "0.3   0.6107605198791476\n"
          ]
        },
        {
          "output_type": "stream",
          "name": "stderr",
          "text": [
            "100%|██████████| 27/27 [00:00<00:00, 41.43it/s]\n"
          ]
        },
        {
          "output_type": "stream",
          "name": "stdout",
          "text": [
            "0.4   0.5950677164949236\n"
          ]
        },
        {
          "output_type": "stream",
          "name": "stderr",
          "text": [
            "100%|██████████| 27/27 [00:00<00:00, 40.77it/s]\n"
          ]
        },
        {
          "output_type": "stream",
          "name": "stdout",
          "text": [
            "0.5   0.5872189113553842\n"
          ]
        },
        {
          "output_type": "stream",
          "name": "stderr",
          "text": [
            "100%|██████████| 27/27 [00:00<00:00, 41.13it/s]\n"
          ]
        },
        {
          "output_type": "stream",
          "name": "stdout",
          "text": [
            "0.6   0.5789736582679469\n"
          ]
        },
        {
          "output_type": "stream",
          "name": "stderr",
          "text": [
            "100%|██████████| 27/27 [00:00<00:00, 40.98it/s]\n"
          ]
        },
        {
          "output_type": "stream",
          "name": "stdout",
          "text": [
            "0.7   0.5642403838617662\n"
          ]
        },
        {
          "output_type": "stream",
          "name": "stderr",
          "text": [
            "100%|██████████| 27/27 [00:00<00:00, 41.06it/s]\n"
          ]
        },
        {
          "output_type": "stream",
          "name": "stdout",
          "text": [
            "0.8   0.5376986859508562\n"
          ]
        },
        {
          "output_type": "stream",
          "name": "stderr",
          "text": [
            "100%|██████████| 27/27 [00:00<00:00, 40.86it/s]"
          ]
        },
        {
          "output_type": "stream",
          "name": "stdout",
          "text": [
            "0.9   0.48169438069986625\n"
          ]
        },
        {
          "output_type": "stream",
          "name": "stderr",
          "text": [
            "\n"
          ]
        }
      ]
    },
    {
      "cell_type": "code",
      "source": [],
      "metadata": {
        "id": "Wp4CgnjKNkD-"
      },
      "execution_count": null,
      "outputs": []
    }
  ],
  "metadata": {
    "accelerator": "GPU",
    "colab": {
      "provenance": []
    },
    "kernelspec": {
      "display_name": "Python 3",
      "name": "python3"
    },
    "language_info": {
      "name": "python"
    },
    "gpuClass": "standard"
  },
  "nbformat": 4,
  "nbformat_minor": 0
}